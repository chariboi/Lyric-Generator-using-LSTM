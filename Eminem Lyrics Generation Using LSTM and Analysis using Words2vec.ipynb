{
 "cells": [
  {
   "cell_type": "code",
   "execution_count": 3,
   "metadata": {
    "collapsed": true
   },
   "outputs": [],
   "source": [
    "import numpy as np\n",
    "import pandas as pd \n",
    "import matplotlib.pyplot as plt\n",
    "import seaborn as sns\n",
    "import nltk\n",
    "import re\n",
    "from nltk.corpus import stopwords"
   ]
  },
  {
   "cell_type": "code",
   "execution_count": 2,
   "metadata": {},
   "outputs": [
    {
     "data": {
      "text/html": [
       "<script>requirejs.config({paths: { 'plotly': ['https://cdn.plot.ly/plotly-latest.min']},});if(!window.Plotly) {{require(['plotly'],function(plotly) {window.Plotly=plotly;});}}</script>"
      ],
      "text/vnd.plotly.v1+html": [
       "<script>requirejs.config({paths: { 'plotly': ['https://cdn.plot.ly/plotly-latest.min']},});if(!window.Plotly) {{require(['plotly'],function(plotly) {window.Plotly=plotly;});}}</script>"
      ]
     },
     "metadata": {},
     "output_type": "display_data"
    }
   ],
   "source": [
    "import plotly\n",
    "from plotly.offline import init_notebook_mode, iplot\n",
    "init_notebook_mode(connected=True)\n",
    "import plotly.plotly as py\n",
    "import plotly.graph_objs as go"
   ]
  },
  {
   "cell_type": "code",
   "execution_count": 4,
   "metadata": {},
   "outputs": [
    {
     "data": {
      "text/html": [
       "<div>\n",
       "<style>\n",
       "    .dataframe thead tr:only-child th {\n",
       "        text-align: right;\n",
       "    }\n",
       "\n",
       "    .dataframe thead th {\n",
       "        text-align: left;\n",
       "    }\n",
       "\n",
       "    .dataframe tbody tr th {\n",
       "        vertical-align: top;\n",
       "    }\n",
       "</style>\n",
       "<table border=\"1\" class=\"dataframe\">\n",
       "  <thead>\n",
       "    <tr style=\"text-align: right;\">\n",
       "      <th></th>\n",
       "      <th>artist</th>\n",
       "      <th>song</th>\n",
       "      <th>link</th>\n",
       "      <th>text</th>\n",
       "    </tr>\n",
       "  </thead>\n",
       "  <tbody>\n",
       "    <tr>\n",
       "      <th>0</th>\n",
       "      <td>ABBA</td>\n",
       "      <td>Ahe's My Kind Of Girl</td>\n",
       "      <td>/a/abba/ahes+my+kind+of+girl_20598417.html</td>\n",
       "      <td>Look at her face, it's a wonderful face  \\nAnd...</td>\n",
       "    </tr>\n",
       "    <tr>\n",
       "      <th>1</th>\n",
       "      <td>ABBA</td>\n",
       "      <td>Andante, Andante</td>\n",
       "      <td>/a/abba/andante+andante_20002708.html</td>\n",
       "      <td>Take it easy with me, please  \\nTouch me gentl...</td>\n",
       "    </tr>\n",
       "    <tr>\n",
       "      <th>2</th>\n",
       "      <td>ABBA</td>\n",
       "      <td>As Good As New</td>\n",
       "      <td>/a/abba/as+good+as+new_20003033.html</td>\n",
       "      <td>I'll never know why I had to go  \\nWhy I had t...</td>\n",
       "    </tr>\n",
       "    <tr>\n",
       "      <th>3</th>\n",
       "      <td>ABBA</td>\n",
       "      <td>Bang</td>\n",
       "      <td>/a/abba/bang_20598415.html</td>\n",
       "      <td>Making somebody happy is a question of give an...</td>\n",
       "    </tr>\n",
       "    <tr>\n",
       "      <th>4</th>\n",
       "      <td>ABBA</td>\n",
       "      <td>Bang-A-Boomerang</td>\n",
       "      <td>/a/abba/bang+a+boomerang_20002668.html</td>\n",
       "      <td>Making somebody happy is a question of give an...</td>\n",
       "    </tr>\n",
       "  </tbody>\n",
       "</table>\n",
       "</div>"
      ],
      "text/plain": [
       "  artist                   song                                        link  \\\n",
       "0   ABBA  Ahe's My Kind Of Girl  /a/abba/ahes+my+kind+of+girl_20598417.html   \n",
       "1   ABBA       Andante, Andante       /a/abba/andante+andante_20002708.html   \n",
       "2   ABBA         As Good As New        /a/abba/as+good+as+new_20003033.html   \n",
       "3   ABBA                   Bang                  /a/abba/bang_20598415.html   \n",
       "4   ABBA       Bang-A-Boomerang      /a/abba/bang+a+boomerang_20002668.html   \n",
       "\n",
       "                                                text  \n",
       "0  Look at her face, it's a wonderful face  \\nAnd...  \n",
       "1  Take it easy with me, please  \\nTouch me gentl...  \n",
       "2  I'll never know why I had to go  \\nWhy I had t...  \n",
       "3  Making somebody happy is a question of give an...  \n",
       "4  Making somebody happy is a question of give an...  "
      ]
     },
     "execution_count": 4,
     "metadata": {},
     "output_type": "execute_result"
    }
   ],
   "source": [
    "data = pd.read_csv('songdata.csv')\n",
    "data.head(5)"
   ]
  },
  {
   "cell_type": "code",
   "execution_count": 4,
   "metadata": {
    "collapsed": true
   },
   "outputs": [],
   "source": [
    "del data['link']"
   ]
  },
  {
   "cell_type": "code",
   "execution_count": 4,
   "metadata": {
    "scrolled": false
   },
   "outputs": [
    {
     "data": {
      "text/plain": [
       "643"
      ]
     },
     "execution_count": 4,
     "metadata": {},
     "output_type": "execute_result"
    }
   ],
   "source": [
    "len(list(data['artist'].unique()))"
   ]
  },
  {
   "cell_type": "markdown",
   "metadata": {},
   "source": [
    "## Let us focus on Eminem "
   ]
  },
  {
   "cell_type": "code",
   "execution_count": 5,
   "metadata": {},
   "outputs": [
    {
     "data": {
      "text/html": [
       "<div>\n",
       "<style>\n",
       "    .dataframe thead tr:only-child th {\n",
       "        text-align: right;\n",
       "    }\n",
       "\n",
       "    .dataframe thead th {\n",
       "        text-align: left;\n",
       "    }\n",
       "\n",
       "    .dataframe tbody tr th {\n",
       "        vertical-align: top;\n",
       "    }\n",
       "</style>\n",
       "<table border=\"1\" class=\"dataframe\">\n",
       "  <thead>\n",
       "    <tr style=\"text-align: right;\">\n",
       "      <th></th>\n",
       "      <th>artist</th>\n",
       "      <th>song</th>\n",
       "      <th>link</th>\n",
       "      <th>text</th>\n",
       "    </tr>\n",
       "  </thead>\n",
       "  <tbody>\n",
       "    <tr>\n",
       "      <th>5062</th>\n",
       "      <td>Eminem</td>\n",
       "      <td>25 to Life</td>\n",
       "      <td>/e/eminem/25+to+life_20883525.html</td>\n",
       "      <td>Too late for the other side  \\nCaught in a cha...</td>\n",
       "    </tr>\n",
       "    <tr>\n",
       "      <th>5063</th>\n",
       "      <td>Eminem</td>\n",
       "      <td>3 A.M.</td>\n",
       "      <td>/e/eminem/3+am_20789506.html</td>\n",
       "      <td>Oh oh  \\nOh(yea) oh(yea) oh(yea)  \\nOh oh  \\nO...</td>\n",
       "    </tr>\n",
       "    <tr>\n",
       "      <th>5064</th>\n",
       "      <td>Eminem</td>\n",
       "      <td>3 Verses</td>\n",
       "      <td>/e/eminem/3+verses_20049939.html</td>\n",
       "      <td>I'm the illest rapper to hold a cordless  \\nPa...</td>\n",
       "    </tr>\n",
       "  </tbody>\n",
       "</table>\n",
       "</div>"
      ],
      "text/plain": [
       "      artist        song                                link  \\\n",
       "5062  Eminem  25 to Life  /e/eminem/25+to+life_20883525.html   \n",
       "5063  Eminem      3 A.M.        /e/eminem/3+am_20789506.html   \n",
       "5064  Eminem    3 Verses    /e/eminem/3+verses_20049939.html   \n",
       "\n",
       "                                                   text  \n",
       "5062  Too late for the other side  \\nCaught in a cha...  \n",
       "5063  Oh oh  \\nOh(yea) oh(yea) oh(yea)  \\nOh oh  \\nO...  \n",
       "5064  I'm the illest rapper to hold a cordless  \\nPa...  "
      ]
     },
     "execution_count": 5,
     "metadata": {},
     "output_type": "execute_result"
    }
   ],
   "source": [
    "eminem = data[(data['artist'] == 'Eminem')]\n",
    "eminem.head(3)"
   ]
  },
  {
   "cell_type": "code",
   "execution_count": 171,
   "metadata": {
    "collapsed": true
   },
   "outputs": [],
   "source": [
    "rap = list(eminem['text'])\n",
    "word=[]\n",
    "for i in range(0,len(rap)):\n",
    "    kk = rap[i].replace(\"\\n\",\" \")\n",
    "    s=kk.split(' ')\n",
    "    o = [x for x in s if x]\n",
    "    word.append(o)"
   ]
  },
  {
   "cell_type": "code",
   "execution_count": 98,
   "metadata": {},
   "outputs": [
    {
     "data": {
      "text/plain": [
       "['Too', 'late', 'for', 'the', 'other']"
      ]
     },
     "execution_count": 98,
     "metadata": {},
     "output_type": "execute_result"
    }
   ],
   "source": [
    "word = [j for i in word for j in i]\n",
    "word[:5]"
   ]
  },
  {
   "cell_type": "markdown",
   "metadata": {},
   "source": [
    "### Remove stop words and other unnecessary words"
   ]
  },
  {
   "cell_type": "code",
   "execution_count": 99,
   "metadata": {
    "collapsed": true
   },
   "outputs": [],
   "source": [
    "el = [\"i'm\",\"get\",\"got\"]\n",
    "stop = set(stopwords.words('english'))\n",
    "word = [word.lower() for word in word]\n",
    "words = [i for i in word if i not in stop]\n",
    "words = [i for i in words if i not in el]"
   ]
  },
  {
   "cell_type": "markdown",
   "metadata": {},
   "source": [
    "### Removing punctuation from words in lyrics"
   ]
  },
  {
   "cell_type": "code",
   "execution_count": 100,
   "metadata": {
    "collapsed": true
   },
   "outputs": [],
   "source": [
    "for i in range(0,len(words)):\n",
    "    words[i] = re.sub(r'[^\\w\\s]','',words[i])"
   ]
  },
  {
   "cell_type": "markdown",
   "metadata": {},
   "source": [
    "### Remove the empty elements in the list"
   ]
  },
  {
   "cell_type": "code",
   "execution_count": 92,
   "metadata": {
    "collapsed": true
   },
   "outputs": [],
   "source": [
    "words = [x for x in words if x]"
   ]
  },
  {
   "cell_type": "code",
   "execution_count": 11,
   "metadata": {
    "collapsed": true
   },
   "outputs": [],
   "source": [
    "from collections import Counter\n",
    "labels, values = zip(*Counter(words).items())"
   ]
  },
  {
   "cell_type": "markdown",
   "metadata": {},
   "source": [
    "### 20 commonly used words in the lyrics along with the number of times they occur"
   ]
  },
  {
   "cell_type": "code",
   "execution_count": 13,
   "metadata": {
    "collapsed": true
   },
   "outputs": [],
   "source": [
    "w = Counter(words)\n",
    "s = w.most_common(20)"
   ]
  },
  {
   "cell_type": "code",
   "execution_count": 14,
   "metadata": {
    "collapsed": true
   },
   "outputs": [],
   "source": [
    "x , y = zip(*(s))"
   ]
  },
  {
   "cell_type": "code",
   "execution_count": 159,
   "metadata": {},
   "outputs": [
    {
     "data": {
      "application/vnd.plotly.v1+json": {
       "data": [
        {
         "type": "bar",
         "x": [
          "like",
          "shit",
          "back",
          "know",
          "aint",
          "go",
          "cause",
          "fuck",
          "oh",
          "man",
          "one",
          "see",
          "chorus",
          "yeah",
          "think",
          "thats",
          "em",
          "make",
          "say",
          "time"
         ],
         "y": [
          251,
          157,
          136,
          132,
          125,
          124,
          115,
          113,
          103,
          99,
          97,
          97,
          92,
          88,
          84,
          83,
          82,
          81,
          79,
          79
         ]
        }
       ],
       "layout": {
        "title": "Words in Eminem Lyrics ",
        "xaxis": {
         "title": "Words Used",
         "titlefont": {
          "color": "#7f7f7f",
          "family": "Courier New, monospace",
          "size": 18
         }
        },
        "yaxis": {
         "title": "Number of times it was used",
         "titlefont": {
          "color": "#7f7f7f",
          "family": "Courier New, monospace",
          "size": 18
         }
        }
       }
      },
      "text/html": [
       "<div id=\"76517853-cb17-4933-856b-2c4be263ec2b\" style=\"height: 525px; width: 100%;\" class=\"plotly-graph-div\"></div><script type=\"text/javascript\">require([\"plotly\"], function(Plotly) { window.PLOTLYENV=window.PLOTLYENV || {};window.PLOTLYENV.BASE_URL=\"https://plot.ly\";Plotly.newPlot(\"76517853-cb17-4933-856b-2c4be263ec2b\", [{\"type\": \"bar\", \"x\": [\"like\", \"shit\", \"back\", \"know\", \"aint\", \"go\", \"cause\", \"fuck\", \"oh\", \"man\", \"one\", \"see\", \"chorus\", \"yeah\", \"think\", \"thats\", \"em\", \"make\", \"say\", \"time\"], \"y\": [251, 157, 136, 132, 125, 124, 115, 113, 103, 99, 97, 97, 92, 88, 84, 83, 82, 81, 79, 79]}], {\"title\": \"Words in Eminem Lyrics \", \"xaxis\": {\"title\": \"Words Used\", \"titlefont\": {\"family\": \"Courier New, monospace\", \"size\": 18, \"color\": \"#7f7f7f\"}}, \"yaxis\": {\"title\": \"Number of times it was used\", \"titlefont\": {\"family\": \"Courier New, monospace\", \"size\": 18, \"color\": \"#7f7f7f\"}}}, {\"showLink\": true, \"linkText\": \"Export to plot.ly\"})});</script>"
      ],
      "text/vnd.plotly.v1+html": [
       "<div id=\"76517853-cb17-4933-856b-2c4be263ec2b\" style=\"height: 525px; width: 100%;\" class=\"plotly-graph-div\"></div><script type=\"text/javascript\">require([\"plotly\"], function(Plotly) { window.PLOTLYENV=window.PLOTLYENV || {};window.PLOTLYENV.BASE_URL=\"https://plot.ly\";Plotly.newPlot(\"76517853-cb17-4933-856b-2c4be263ec2b\", [{\"type\": \"bar\", \"x\": [\"like\", \"shit\", \"back\", \"know\", \"aint\", \"go\", \"cause\", \"fuck\", \"oh\", \"man\", \"one\", \"see\", \"chorus\", \"yeah\", \"think\", \"thats\", \"em\", \"make\", \"say\", \"time\"], \"y\": [251, 157, 136, 132, 125, 124, 115, 113, 103, 99, 97, 97, 92, 88, 84, 83, 82, 81, 79, 79]}], {\"title\": \"Words in Eminem Lyrics \", \"xaxis\": {\"title\": \"Words Used\", \"titlefont\": {\"family\": \"Courier New, monospace\", \"size\": 18, \"color\": \"#7f7f7f\"}}, \"yaxis\": {\"title\": \"Number of times it was used\", \"titlefont\": {\"family\": \"Courier New, monospace\", \"size\": 18, \"color\": \"#7f7f7f\"}}}, {\"showLink\": true, \"linkText\": \"Export to plot.ly\"})});</script>"
      ]
     },
     "metadata": {},
     "output_type": "display_data"
    }
   ],
   "source": [
    "data = [go.Bar(x=x,y=y)]\n",
    "layout = go.Layout(\n",
    "    title='Words in Eminem Lyrics ',\n",
    "    xaxis=dict(\n",
    "        title='Words Used',\n",
    "        titlefont=dict(\n",
    "            family='Courier New, monospace',\n",
    "            size=18,\n",
    "            color='#7f7f7f'\n",
    "        )\n",
    "    ),\n",
    "    yaxis=dict(\n",
    "        title='Number of times it was used',\n",
    "        titlefont=dict(\n",
    "            family='Courier New, monospace',\n",
    "            size=18,\n",
    "            color='#7f7f7f'\n",
    "        )\n",
    "    )\n",
    ")\n",
    "iplot(go.Figure(data=data, layout = layout))"
   ]
  },
  {
   "cell_type": "markdown",
   "metadata": {},
   "source": [
    "### Eminem seems to use the word LIKE a lot in his lyrics. He also used bad words frequently"
   ]
  },
  {
   "cell_type": "code",
   "execution_count": 13,
   "metadata": {
    "collapsed": true
   },
   "outputs": [],
   "source": [
    "unique_words = sorted(set(words))"
   ]
  },
  {
   "cell_type": "code",
   "execution_count": 15,
   "metadata": {},
   "outputs": [
    {
     "data": {
      "text/plain": [
       "5204"
      ]
     },
     "execution_count": 15,
     "metadata": {},
     "output_type": "execute_result"
    }
   ],
   "source": [
    "len(unique_words)"
   ]
  },
  {
   "cell_type": "markdown",
   "metadata": {},
   "source": [
    "# Generating Eminem's Rap Lyric"
   ]
  },
  {
   "cell_type": "code",
   "execution_count": 22,
   "metadata": {},
   "outputs": [
    {
     "name": "stderr",
     "output_type": "stream",
     "text": [
      "Using TensorFlow backend.\n"
     ]
    }
   ],
   "source": [
    "from keras.models import Sequential\n",
    "from keras.layers.noise import GaussianNoise\n",
    "from keras.layers import LSTM, Dropout, Dense, Conv1D, MaxPooling1D\n",
    "from keras.layers.embeddings import Embedding\n",
    "from keras.callbacks import ModelCheckpoint\n",
    "from keras.utils import np_utils\n",
    "from keras.preprocessing.text import Tokenizer\n",
    "from keras.preprocessing.sequence import pad_sequences\n",
    "from keras.utils import to_categorical"
   ]
  },
  {
   "cell_type": "markdown",
   "metadata": {},
   "source": [
    "### Mapping each unique word in the lyric to a number (5204 unique words)"
   ]
  },
  {
   "cell_type": "code",
   "execution_count": 17,
   "metadata": {
    "collapsed": true
   },
   "outputs": [],
   "source": [
    "rap = np.array(rap)"
   ]
  },
  {
   "cell_type": "code",
   "execution_count": 18,
   "metadata": {
    "collapsed": true
   },
   "outputs": [],
   "source": [
    "lyric = (''.join(rap))"
   ]
  },
  {
   "cell_type": "code",
   "execution_count": 21,
   "metadata": {
    "collapsed": true
   },
   "outputs": [],
   "source": [
    "l = set(lyric)"
   ]
  },
  {
   "cell_type": "code",
   "execution_count": 22,
   "metadata": {},
   "outputs": [
    {
     "data": {
      "text/plain": [
       "76"
      ]
     },
     "execution_count": 22,
     "metadata": {},
     "output_type": "execute_result"
    }
   ],
   "source": [
    "len(l)"
   ]
  },
  {
   "cell_type": "markdown",
   "metadata": {},
   "source": [
    "### Mapping words to numbers for easier training"
   ]
  },
  {
   "cell_type": "code",
   "execution_count": 18,
   "metadata": {
    "collapsed": true
   },
   "outputs": [],
   "source": [
    "vocab= [k for k in l] \n",
    "char_ix={c:i for i,c in enumerate(vocab)}\n",
    "ix_char={i:c for i,c in enumerate(vocab)}"
   ]
  },
  {
   "cell_type": "code",
   "execution_count": 317,
   "metadata": {
    "scrolled": true
   },
   "outputs": [
    {
     "data": {
      "text/plain": [
       "{0: '\"',\n",
       " 1: 'L',\n",
       " 2: 'N',\n",
       " 3: 'k',\n",
       " 4: 'M',\n",
       " 5: 'j',\n",
       " 6: '4',\n",
       " 7: '7',\n",
       " 8: '6',\n",
       " 9: 'b',\n",
       " 10: 'P',\n",
       " 11: 'V',\n",
       " 12: 'W',\n",
       " 13: 'i',\n",
       " 14: 'K',\n",
       " 15: 'S',\n",
       " 16: 'y',\n",
       " 17: ' ',\n",
       " 18: ')',\n",
       " 19: 'z',\n",
       " 20: 'O',\n",
       " 21: 'C',\n",
       " 22: 'm',\n",
       " 23: 'h',\n",
       " 24: 'f',\n",
       " 25: 'A',\n",
       " 26: ',',\n",
       " 27: '2',\n",
       " 28: 'd',\n",
       " 29: 'a',\n",
       " 30: '-',\n",
       " 31: 'Q',\n",
       " 32: '3',\n",
       " 33: 'v',\n",
       " 34: ']',\n",
       " 35: 'l',\n",
       " 36: '\\n',\n",
       " 37: 'p',\n",
       " 38: \"'\",\n",
       " 39: 'J',\n",
       " 40: 'Y',\n",
       " 41: 'q',\n",
       " 42: 'X',\n",
       " 43: '0',\n",
       " 44: 'I',\n",
       " 45: 'D',\n",
       " 46: 'E',\n",
       " 47: 'U',\n",
       " 48: 'w',\n",
       " 49: '[',\n",
       " 50: 'r',\n",
       " 51: 'G',\n",
       " 52: 'u',\n",
       " 53: ':',\n",
       " 54: '?',\n",
       " 55: '8',\n",
       " 56: 'x',\n",
       " 57: '5',\n",
       " 58: 'H',\n",
       " 59: '!',\n",
       " 60: 'F',\n",
       " 61: 's',\n",
       " 62: 'g',\n",
       " 63: 'B',\n",
       " 64: 'T',\n",
       " 65: 'e',\n",
       " 66: 'c',\n",
       " 67: 'R',\n",
       " 68: '.',\n",
       " 69: 'Z',\n",
       " 70: 'n',\n",
       " 71: 't',\n",
       " 72: '9',\n",
       " 73: '(',\n",
       " 74: '1',\n",
       " 75: 'o'}"
      ]
     },
     "execution_count": 317,
     "metadata": {},
     "output_type": "execute_result"
    }
   ],
   "source": [
    "ix_char"
   ]
  },
  {
   "cell_type": "code",
   "execution_count": 318,
   "metadata": {
    "collapsed": true
   },
   "outputs": [],
   "source": [
    "maxlen=40\n",
    "vocab_size=len(vocab)"
   ]
  },
  {
   "cell_type": "markdown",
   "metadata": {},
   "source": [
    "### Character wise Patterns "
   ]
  },
  {
   "cell_type": "code",
   "execution_count": 314,
   "metadata": {},
   "outputs": [
    {
     "data": {
      "text/plain": [
       "['Too late for the other side  \\nCaught in ',\n",
       " 'oo late for the other side  \\nCaught in a',\n",
       " 'o late for the other side  \\nCaught in a ',\n",
       " ' late for the other side  \\nCaught in a c',\n",
       " 'late for the other side  \\nCaught in a ch',\n",
       " 'ate for the other side  \\nCaught in a cha',\n",
       " 'te for the other side  \\nCaught in a chas',\n",
       " 'e for the other side  \\nCaught in a chase',\n",
       " ' for the other side  \\nCaught in a chase ',\n",
       " 'for the other side  \\nCaught in a chase  ',\n",
       " 'or the other side  \\nCaught in a chase  \\n',\n",
       " 'r the other side  \\nCaught in a chase  \\nT',\n",
       " ' the other side  \\nCaught in a chase  \\nTw',\n",
       " 'the other side  \\nCaught in a chase  \\nTwe',\n",
       " 'he other side  \\nCaught in a chase  \\nTwen',\n",
       " 'e other side  \\nCaught in a chase  \\nTwent',\n",
       " ' other side  \\nCaught in a chase  \\nTwenty',\n",
       " 'other side  \\nCaught in a chase  \\nTwenty ',\n",
       " 'ther side  \\nCaught in a chase  \\nTwenty f',\n",
       " 'her side  \\nCaught in a chase  \\nTwenty fi',\n",
       " 'er side  \\nCaught in a chase  \\nTwenty fiv',\n",
       " 'r side  \\nCaught in a chase  \\nTwenty five',\n",
       " ' side  \\nCaught in a chase  \\nTwenty five ',\n",
       " 'side  \\nCaught in a chase  \\nTwenty five t',\n",
       " 'ide  \\nCaught in a chase  \\nTwenty five to',\n",
       " 'de  \\nCaught in a chase  \\nTwenty five to ',\n",
       " 'e  \\nCaught in a chase  \\nTwenty five to l',\n",
       " '  \\nCaught in a chase  \\nTwenty five to li',\n",
       " ' \\nCaught in a chase  \\nTwenty five to lif',\n",
       " '\\nCaught in a chase  \\nTwenty five to life',\n",
       " 'Caught in a chase  \\nTwenty five to life ',\n",
       " 'aught in a chase  \\nTwenty five to life  ',\n",
       " 'ught in a chase  \\nTwenty five to life  \\n',\n",
       " 'ght in a chase  \\nTwenty five to life  \\nT',\n",
       " 'ht in a chase  \\nTwenty five to life  \\nTo',\n",
       " 't in a chase  \\nTwenty five to life  \\nToo',\n",
       " ' in a chase  \\nTwenty five to life  \\nToo ',\n",
       " 'in a chase  \\nTwenty five to life  \\nToo l',\n",
       " 'n a chase  \\nTwenty five to life  \\nToo la',\n",
       " ' a chase  \\nTwenty five to life  \\nToo lat',\n",
       " 'a chase  \\nTwenty five to life  \\nToo late',\n",
       " ' chase  \\nTwenty five to life  \\nToo late ',\n",
       " 'chase  \\nTwenty five to life  \\nToo late f',\n",
       " 'hase  \\nTwenty five to life  \\nToo late fo',\n",
       " 'ase  \\nTwenty five to life  \\nToo late for',\n",
       " 'se  \\nTwenty five to life  \\nToo late for ',\n",
       " 'e  \\nTwenty five to life  \\nToo late for t',\n",
       " '  \\nTwenty five to life  \\nToo late for th',\n",
       " ' \\nTwenty five to life  \\nToo late for the',\n",
       " '\\nTwenty five to life  \\nToo late for the ',\n",
       " 'Twenty five to life  \\nToo late for the o',\n",
       " 'wenty five to life  \\nToo late for the ot',\n",
       " 'enty five to life  \\nToo late for the oth',\n",
       " 'nty five to life  \\nToo late for the othe',\n",
       " 'ty five to life  \\nToo late for the other',\n",
       " 'y five to life  \\nToo late for the other ',\n",
       " ' five to life  \\nToo late for the other s',\n",
       " 'five to life  \\nToo late for the other si',\n",
       " 'ive to life  \\nToo late for the other sid',\n",
       " 've to life  \\nToo late for the other side',\n",
       " 'e to life  \\nToo late for the other side ',\n",
       " ' to life  \\nToo late for the other side  ',\n",
       " 'to life  \\nToo late for the other side  \\n',\n",
       " 'o life  \\nToo late for the other side  \\nC',\n",
       " ' life  \\nToo late for the other side  \\nCa',\n",
       " 'life  \\nToo late for the other side  \\nCau',\n",
       " 'ife  \\nToo late for the other side  \\nCaug',\n",
       " 'fe  \\nToo late for the other side  \\nCaugh',\n",
       " 'e  \\nToo late for the other side  \\nCaught',\n",
       " '  \\nToo late for the other side  \\nCaught ',\n",
       " ' \\nToo late for the other side  \\nCaught i',\n",
       " '\\nToo late for the other side  \\nCaught in',\n",
       " 'Too late for the other side  \\nCaught in ',\n",
       " 'oo late for the other side  \\nCaught in a',\n",
       " 'o late for the other side  \\nCaught in a ',\n",
       " ' late for the other side  \\nCaught in a c',\n",
       " 'late for the other side  \\nCaught in a ch',\n",
       " 'ate for the other side  \\nCaught in a cha',\n",
       " 'te for the other side  \\nCaught in a chas',\n",
       " 'e for the other side  \\nCaught in a chase',\n",
       " ' for the other side  \\nCaught in a chase ',\n",
       " 'for the other side  \\nCaught in a chase  ',\n",
       " 'or the other side  \\nCaught in a chase  \\n',\n",
       " 'r the other side  \\nCaught in a chase  \\nT',\n",
       " ' the other side  \\nCaught in a chase  \\nTw',\n",
       " 'the other side  \\nCaught in a chase  \\nTwe',\n",
       " 'he other side  \\nCaught in a chase  \\nTwen',\n",
       " 'e other side  \\nCaught in a chase  \\nTwent',\n",
       " ' other side  \\nCaught in a chase  \\nTwenty',\n",
       " 'other side  \\nCaught in a chase  \\nTwenty ',\n",
       " 'ther side  \\nCaught in a chase  \\nTwenty f',\n",
       " 'her side  \\nCaught in a chase  \\nTwenty fi',\n",
       " 'er side  \\nCaught in a chase  \\nTwenty fiv',\n",
       " 'r side  \\nCaught in a chase  \\nTwenty five',\n",
       " ' side  \\nCaught in a chase  \\nTwenty five ',\n",
       " 'side  \\nCaught in a chase  \\nTwenty five t',\n",
       " 'ide  \\nCaught in a chase  \\nTwenty five to',\n",
       " 'de  \\nCaught in a chase  \\nTwenty five to ',\n",
       " 'e  \\nCaught in a chase  \\nTwenty five to l',\n",
       " '  \\nCaught in a chase  \\nTwenty five to li',\n",
       " ' \\nCaught in a chase  \\nTwenty five to lif',\n",
       " '\\nCaught in a chase  \\nTwenty five to life',\n",
       " 'Caught in a chase  \\nTwenty five to life ',\n",
       " 'aught in a chase  \\nTwenty five to life  ',\n",
       " 'ught in a chase  \\nTwenty five to life  \\n',\n",
       " 'ght in a chase  \\nTwenty five to life  \\nY',\n",
       " 'ht in a chase  \\nTwenty five to life  \\nYe',\n",
       " 't in a chase  \\nTwenty five to life  \\nYea',\n",
       " ' in a chase  \\nTwenty five to life  \\nYeah',\n",
       " 'in a chase  \\nTwenty five to life  \\nYeah ',\n",
       " 'n a chase  \\nTwenty five to life  \\nYeah  ',\n",
       " ' a chase  \\nTwenty five to life  \\nYeah  \\n',\n",
       " 'a chase  \\nTwenty five to life  \\nYeah  \\nT',\n",
       " ' chase  \\nTwenty five to life  \\nYeah  \\nTo',\n",
       " 'chase  \\nTwenty five to life  \\nYeah  \\nToo',\n",
       " 'hase  \\nTwenty five to life  \\nYeah  \\nToo ',\n",
       " 'ase  \\nTwenty five to life  \\nYeah  \\nToo l',\n",
       " 'se  \\nTwenty five to life  \\nYeah  \\nToo la',\n",
       " 'e  \\nTwenty five to life  \\nYeah  \\nToo lat',\n",
       " '  \\nTwenty five to life  \\nYeah  \\nToo late',\n",
       " ' \\nTwenty five to life  \\nYeah  \\nToo late ',\n",
       " '\\nTwenty five to life  \\nYeah  \\nToo late  ',\n",
       " 'Twenty five to life  \\nYeah  \\nToo late  \\n',\n",
       " 'wenty five to life  \\nYeah  \\nToo late  \\nI',\n",
       " 'enty five to life  \\nYeah  \\nToo late  \\nI ',\n",
       " 'nty five to life  \\nYeah  \\nToo late  \\nI c',\n",
       " 'ty five to life  \\nYeah  \\nToo late  \\nI ca',\n",
       " 'y five to life  \\nYeah  \\nToo late  \\nI can',\n",
       " ' five to life  \\nYeah  \\nToo late  \\nI cant',\n",
       " 'five to life  \\nYeah  \\nToo late  \\nI cant ',\n",
       " 'ive to life  \\nYeah  \\nToo late  \\nI cant k',\n",
       " 've to life  \\nYeah  \\nToo late  \\nI cant ke',\n",
       " 'e to life  \\nYeah  \\nToo late  \\nI cant kee',\n",
       " ' to life  \\nYeah  \\nToo late  \\nI cant keep',\n",
       " 'to life  \\nYeah  \\nToo late  \\nI cant keep ',\n",
       " 'o life  \\nYeah  \\nToo late  \\nI cant keep c',\n",
       " ' life  \\nYeah  \\nToo late  \\nI cant keep ch',\n",
       " 'life  \\nYeah  \\nToo late  \\nI cant keep cha',\n",
       " 'ife  \\nYeah  \\nToo late  \\nI cant keep chas',\n",
       " 'fe  \\nYeah  \\nToo late  \\nI cant keep chasi',\n",
       " 'e  \\nYeah  \\nToo late  \\nI cant keep chasin',\n",
       " '  \\nYeah  \\nToo late  \\nI cant keep chasing',\n",
       " ' \\nYeah  \\nToo late  \\nI cant keep chasing ',\n",
       " \"\\nYeah  \\nToo late  \\nI cant keep chasing '\",\n",
       " \"Yeah  \\nToo late  \\nI cant keep chasing 'e\",\n",
       " \"eah  \\nToo late  \\nI cant keep chasing 'em\",\n",
       " \"ah  \\nToo late  \\nI cant keep chasing 'em \",\n",
       " \"h  \\nToo late  \\nI cant keep chasing 'em  \",\n",
       " \"  \\nToo late  \\nI cant keep chasing 'em  \\n\",\n",
       " \" \\nToo late  \\nI cant keep chasing 'em  \\nI\",\n",
       " \"\\nToo late  \\nI cant keep chasing 'em  \\nI'\",\n",
       " \"Too late  \\nI cant keep chasing 'em  \\nI'm\",\n",
       " \"oo late  \\nI cant keep chasing 'em  \\nI'm \",\n",
       " \"o late  \\nI cant keep chasing 'em  \\nI'm t\",\n",
       " \" late  \\nI cant keep chasing 'em  \\nI'm ta\",\n",
       " \"late  \\nI cant keep chasing 'em  \\nI'm tak\",\n",
       " \"ate  \\nI cant keep chasing 'em  \\nI'm taki\",\n",
       " \"te  \\nI cant keep chasing 'em  \\nI'm takin\",\n",
       " \"e  \\nI cant keep chasing 'em  \\nI'm taking\",\n",
       " \"  \\nI cant keep chasing 'em  \\nI'm taking \",\n",
       " \" \\nI cant keep chasing 'em  \\nI'm taking m\",\n",
       " \"\\nI cant keep chasing 'em  \\nI'm taking my\",\n",
       " \"I cant keep chasing 'em  \\nI'm taking my \",\n",
       " \" cant keep chasing 'em  \\nI'm taking my l\",\n",
       " \"cant keep chasing 'em  \\nI'm taking my li\",\n",
       " \"ant keep chasing 'em  \\nI'm taking my lif\",\n",
       " \"nt keep chasing 'em  \\nI'm taking my life\",\n",
       " \"t keep chasing 'em  \\nI'm taking my life \",\n",
       " \" keep chasing 'em  \\nI'm taking my life b\",\n",
       " \"keep chasing 'em  \\nI'm taking my life ba\",\n",
       " \"eep chasing 'em  \\nI'm taking my life bac\",\n",
       " \"ep chasing 'em  \\nI'm taking my life back\",\n",
       " \"p chasing 'em  \\nI'm taking my life back \",\n",
       " \" chasing 'em  \\nI'm taking my life back  \",\n",
       " \"chasing 'em  \\nI'm taking my life back  \\n\",\n",
       " \"hasing 'em  \\nI'm taking my life back  \\nC\",\n",
       " \"asing 'em  \\nI'm taking my life back  \\nCa\",\n",
       " \"sing 'em  \\nI'm taking my life back  \\nCau\",\n",
       " \"ing 'em  \\nI'm taking my life back  \\nCaug\",\n",
       " \"ng 'em  \\nI'm taking my life back  \\nCaugh\",\n",
       " \"g 'em  \\nI'm taking my life back  \\nCaught\",\n",
       " \" 'em  \\nI'm taking my life back  \\nCaught \",\n",
       " \"'em  \\nI'm taking my life back  \\nCaught i\",\n",
       " \"em  \\nI'm taking my life back  \\nCaught in\",\n",
       " \"m  \\nI'm taking my life back  \\nCaught in \",\n",
       " \"  \\nI'm taking my life back  \\nCaught in a\",\n",
       " \" \\nI'm taking my life back  \\nCaught in a \",\n",
       " \"\\nI'm taking my life back  \\nCaught in a c\",\n",
       " \"I'm taking my life back  \\nCaught in a ch\",\n",
       " \"'m taking my life back  \\nCaught in a cha\",\n",
       " 'm taking my life back  \\nCaught in a chan',\n",
       " ' taking my life back  \\nCaught in a chang',\n",
       " 'taking my life back  \\nCaught in a change',\n",
       " 'aking my life back  \\nCaught in a change ',\n",
       " 'king my life back  \\nCaught in a change  ',\n",
       " 'ing my life back  \\nCaught in a change  \\n',\n",
       " 'ng my life back  \\nCaught in a change  \\nT',\n",
       " 'g my life back  \\nCaught in a change  \\nTw',\n",
       " ' my life back  \\nCaught in a change  \\nTwe',\n",
       " 'my life back  \\nCaught in a change  \\nTwen',\n",
       " 'y life back  \\nCaught in a change  \\nTwent',\n",
       " ' life back  \\nCaught in a change  \\nTwenty',\n",
       " 'life back  \\nCaught in a change  \\nTwenty ',\n",
       " 'ife back  \\nCaught in a change  \\nTwenty f',\n",
       " 'fe back  \\nCaught in a change  \\nTwenty fi',\n",
       " 'e back  \\nCaught in a change  \\nTwenty fiv',\n",
       " ' back  \\nCaught in a change  \\nTwenty five',\n",
       " 'back  \\nCaught in a change  \\nTwenty five ',\n",
       " 'ack  \\nCaught in a change  \\nTwenty five t',\n",
       " 'ck  \\nCaught in a change  \\nTwenty five to',\n",
       " 'k  \\nCaught in a change  \\nTwenty five to ',\n",
       " '  \\nCaught in a change  \\nTwenty five to l',\n",
       " ' \\nCaught in a change  \\nTwenty five to li',\n",
       " '\\nCaught in a change  \\nTwenty five to lif',\n",
       " 'Caught in a change  \\nTwenty five to life',\n",
       " 'aught in a change  \\nTwenty five to life ',\n",
       " 'ught in a change  \\nTwenty five to life  ',\n",
       " 'ght in a change  \\nTwenty five to life  \\n',\n",
       " 'ht in a change  \\nTwenty five to life  \\n ',\n",
       " 't in a change  \\nTwenty five to life  \\n  ',\n",
       " ' in a change  \\nTwenty five to life  \\n  \\n',\n",
       " 'in a change  \\nTwenty five to life  \\n  \\nI',\n",
       " 'n a change  \\nTwenty five to life  \\n  \\nI ',\n",
       " ' a change  \\nTwenty five to life  \\n  \\nI d',\n",
       " 'a change  \\nTwenty five to life  \\n  \\nI do',\n",
       " ' change  \\nTwenty five to life  \\n  \\nI don',\n",
       " \"change  \\nTwenty five to life  \\n  \\nI don'\",\n",
       " \"hange  \\nTwenty five to life  \\n  \\nI don't\",\n",
       " \"ange  \\nTwenty five to life  \\n  \\nI don't \",\n",
       " \"nge  \\nTwenty five to life  \\n  \\nI don't t\",\n",
       " \"ge  \\nTwenty five to life  \\n  \\nI don't th\",\n",
       " \"e  \\nTwenty five to life  \\n  \\nI don't thi\",\n",
       " \"  \\nTwenty five to life  \\n  \\nI don't thin\",\n",
       " \" \\nTwenty five to life  \\n  \\nI don't think\",\n",
       " \"\\nTwenty five to life  \\n  \\nI don't think \",\n",
       " \"Twenty five to life  \\n  \\nI don't think s\",\n",
       " \"wenty five to life  \\n  \\nI don't think sh\",\n",
       " \"enty five to life  \\n  \\nI don't think she\",\n",
       " \"nty five to life  \\n  \\nI don't think she \",\n",
       " \"ty five to life  \\n  \\nI don't think she u\",\n",
       " \"y five to life  \\n  \\nI don't think she un\",\n",
       " \" five to life  \\n  \\nI don't think she und\",\n",
       " \"five to life  \\n  \\nI don't think she unde\",\n",
       " \"ive to life  \\n  \\nI don't think she under\",\n",
       " \"ve to life  \\n  \\nI don't think she unders\",\n",
       " \"e to life  \\n  \\nI don't think she underst\",\n",
       " \" to life  \\n  \\nI don't think she understa\",\n",
       " \"to life  \\n  \\nI don't think she understan\",\n",
       " \"o life  \\n  \\nI don't think she understand\",\n",
       " \" life  \\n  \\nI don't think she understands\",\n",
       " \"life  \\n  \\nI don't think she understands \",\n",
       " \"ife  \\n  \\nI don't think she understands t\",\n",
       " \"fe  \\n  \\nI don't think she understands th\",\n",
       " \"e  \\n  \\nI don't think she understands the\",\n",
       " \"  \\n  \\nI don't think she understands the \",\n",
       " \" \\n  \\nI don't think she understands the s\",\n",
       " \"\\n  \\nI don't think she understands the sa\",\n",
       " \"  \\nI don't think she understands the sac\",\n",
       " \" \\nI don't think she understands the sacr\",\n",
       " \"\\nI don't think she understands the sacri\",\n",
       " \"I don't think she understands the sacrif\",\n",
       " \" don't think she understands the sacrifi\",\n",
       " \"don't think she understands the sacrific\",\n",
       " \"on't think she understands the sacrifice\",\n",
       " \"n't think she understands the sacrifices\",\n",
       " \"'t think she understands the sacrifices \",\n",
       " 't think she understands the sacrifices t',\n",
       " ' think she understands the sacrifices th',\n",
       " 'think she understands the sacrifices tha',\n",
       " 'hink she understands the sacrifices that',\n",
       " 'ink she understands the sacrifices that ',\n",
       " 'nk she understands the sacrifices that I',\n",
       " \"k she understands the sacrifices that I'\",\n",
       " \" she understands the sacrifices that I'v\",\n",
       " \"she understands the sacrifices that I've\",\n",
       " \"he understands the sacrifices that I've \",\n",
       " \"e understands the sacrifices that I've m\",\n",
       " \" understands the sacrifices that I've ma\",\n",
       " \"understands the sacrifices that I've mad\",\n",
       " \"nderstands the sacrifices that I've made\",\n",
       " \"derstands the sacrifices that I've made \",\n",
       " \"erstands the sacrifices that I've made  \",\n",
       " \"rstands the sacrifices that I've made  \\n\",\n",
       " \"stands the sacrifices that I've made  \\nM\",\n",
       " \"tands the sacrifices that I've made  \\nMa\",\n",
       " \"ands the sacrifices that I've made  \\nMay\",\n",
       " \"nds the sacrifices that I've made  \\nMayb\",\n",
       " \"ds the sacrifices that I've made  \\nMaybe\",\n",
       " \"s the sacrifices that I've made  \\nMaybe \",\n",
       " \" the sacrifices that I've made  \\nMaybe i\",\n",
       " \"the sacrifices that I've made  \\nMaybe if\",\n",
       " \"he sacrifices that I've made  \\nMaybe if \",\n",
       " \"e sacrifices that I've made  \\nMaybe if t\",\n",
       " \" sacrifices that I've made  \\nMaybe if th\",\n",
       " \"sacrifices that I've made  \\nMaybe if thi\",\n",
       " \"acrifices that I've made  \\nMaybe if this\",\n",
       " \"crifices that I've made  \\nMaybe if this \",\n",
       " \"rifices that I've made  \\nMaybe if this b\",\n",
       " \"ifices that I've made  \\nMaybe if this bi\",\n",
       " \"fices that I've made  \\nMaybe if this bit\",\n",
       " \"ices that I've made  \\nMaybe if this bitc\",\n",
       " \"ces that I've made  \\nMaybe if this bitch\",\n",
       " \"es that I've made  \\nMaybe if this bitch \",\n",
       " \"s that I've made  \\nMaybe if this bitch h\",\n",
       " \" that I've made  \\nMaybe if this bitch ha\",\n",
       " \"that I've made  \\nMaybe if this bitch had\",\n",
       " \"hat I've made  \\nMaybe if this bitch had \",\n",
       " \"at I've made  \\nMaybe if this bitch had a\",\n",
       " \"t I've made  \\nMaybe if this bitch had ac\",\n",
       " \" I've made  \\nMaybe if this bitch had act\",\n",
       " \"I've made  \\nMaybe if this bitch had acte\",\n",
       " \"'ve made  \\nMaybe if this bitch had acted\",\n",
       " 've made  \\nMaybe if this bitch had acted ',\n",
       " 'e made  \\nMaybe if this bitch had acted r',\n",
       " ' made  \\nMaybe if this bitch had acted ri',\n",
       " 'made  \\nMaybe if this bitch had acted rig',\n",
       " 'ade  \\nMaybe if this bitch had acted righ',\n",
       " 'de  \\nMaybe if this bitch had acted right',\n",
       " 'e  \\nMaybe if this bitch had acted right ',\n",
       " '  \\nMaybe if this bitch had acted right I',\n",
       " ' \\nMaybe if this bitch had acted right I ',\n",
       " '\\nMaybe if this bitch had acted right I w',\n",
       " 'Maybe if this bitch had acted right I wo',\n",
       " 'aybe if this bitch had acted right I wou',\n",
       " 'ybe if this bitch had acted right I woul',\n",
       " 'be if this bitch had acted right I would',\n",
       " \"e if this bitch had acted right I would'\",\n",
       " \" if this bitch had acted right I would'v\",\n",
       " \"if this bitch had acted right I would've\",\n",
       " \"f this bitch had acted right I would've \",\n",
       " \" this bitch had acted right I would've s\",\n",
       " \"this bitch had acted right I would've st\",\n",
       " \"his bitch had acted right I would've sta\",\n",
       " \"is bitch had acted right I would've stay\",\n",
       " \"s bitch had acted right I would've staye\",\n",
       " \" bitch had acted right I would've stayed\",\n",
       " \"bitch had acted right I would've stayed \",\n",
       " \"itch had acted right I would've stayed  \",\n",
       " \"tch had acted right I would've stayed  \\n\",\n",
       " \"ch had acted right I would've stayed  \\nB\",\n",
       " \"h had acted right I would've stayed  \\nBu\",\n",
       " \" had acted right I would've stayed  \\nBut\",\n",
       " \"had acted right I would've stayed  \\nBut \",\n",
       " \"ad acted right I would've stayed  \\nBut I\",\n",
       " \"d acted right I would've stayed  \\nBut I'\",\n",
       " \" acted right I would've stayed  \\nBut I'v\",\n",
       " \"acted right I would've stayed  \\nBut I've\",\n",
       " \"cted right I would've stayed  \\nBut I've \",\n",
       " \"ted right I would've stayed  \\nBut I've a\",\n",
       " \"ed right I would've stayed  \\nBut I've al\",\n",
       " \"d right I would've stayed  \\nBut I've alr\",\n",
       " \" right I would've stayed  \\nBut I've alre\",\n",
       " \"right I would've stayed  \\nBut I've alrea\",\n",
       " \"ight I would've stayed  \\nBut I've alread\",\n",
       " \"ght I would've stayed  \\nBut I've already\",\n",
       " \"ht I would've stayed  \\nBut I've already \",\n",
       " \"t I would've stayed  \\nBut I've already w\",\n",
       " \" I would've stayed  \\nBut I've already wa\",\n",
       " \"I would've stayed  \\nBut I've already was\",\n",
       " \" would've stayed  \\nBut I've already wast\",\n",
       " \"would've stayed  \\nBut I've already waste\",\n",
       " \"ould've stayed  \\nBut I've already wasted\",\n",
       " \"uld've stayed  \\nBut I've already wasted \",\n",
       " \"ld've stayed  \\nBut I've already wasted o\",\n",
       " \"d've stayed  \\nBut I've already wasted ov\",\n",
       " \"'ve stayed  \\nBut I've already wasted ove\",\n",
       " \"ve stayed  \\nBut I've already wasted over\",\n",
       " \"e stayed  \\nBut I've already wasted over \",\n",
       " \" stayed  \\nBut I've already wasted over h\",\n",
       " \"stayed  \\nBut I've already wasted over ha\",\n",
       " \"tayed  \\nBut I've already wasted over hal\",\n",
       " \"ayed  \\nBut I've already wasted over half\",\n",
       " \"yed  \\nBut I've already wasted over half \",\n",
       " \"ed  \\nBut I've already wasted over half o\",\n",
       " \"d  \\nBut I've already wasted over half of\",\n",
       " \"  \\nBut I've already wasted over half of \",\n",
       " \" \\nBut I've already wasted over half of m\",\n",
       " \"\\nBut I've already wasted over half of my\",\n",
       " \"But I've already wasted over half of my \",\n",
       " \"ut I've already wasted over half of my l\",\n",
       " \"t I've already wasted over half of my li\",\n",
       " \" I've already wasted over half of my lif\",\n",
       " \"I've already wasted over half of my life\",\n",
       " \"'ve already wasted over half of my life \",\n",
       " 've already wasted over half of my life I',\n",
       " 'e already wasted over half of my life I ',\n",
       " ' already wasted over half of my life I w',\n",
       " 'already wasted over half of my life I wo',\n",
       " 'lready wasted over half of my life I wou',\n",
       " 'ready wasted over half of my life I woul',\n",
       " 'eady wasted over half of my life I would',\n",
       " \"ady wasted over half of my life I would'\",\n",
       " \"dy wasted over half of my life I would'v\",\n",
       " \"y wasted over half of my life I would've\",\n",
       " \" wasted over half of my life I would've \",\n",
       " \"wasted over half of my life I would've l\",\n",
       " \"asted over half of my life I would've la\",\n",
       " \"sted over half of my life I would've lai\",\n",
       " \"ted over half of my life I would've laid\",\n",
       " \"ed over half of my life I would've laid \",\n",
       " \"d over half of my life I would've laid  \",\n",
       " \" over half of my life I would've laid  \\n\",\n",
       " \"over half of my life I would've laid  \\nD\",\n",
       " \"ver half of my life I would've laid  \\nDo\",\n",
       " \"er half of my life I would've laid  \\nDow\",\n",
       " \"r half of my life I would've laid  \\nDown\",\n",
       " \" half of my life I would've laid  \\nDown \",\n",
       " \"half of my life I would've laid  \\nDown a\",\n",
       " \"alf of my life I would've laid  \\nDown an\",\n",
       " \"lf of my life I would've laid  \\nDown and\",\n",
       " \"f of my life I would've laid  \\nDown and \",\n",
       " \" of my life I would've laid  \\nDown and d\",\n",
       " \"of my life I would've laid  \\nDown and di\",\n",
       " \"f my life I would've laid  \\nDown and die\",\n",
       " \" my life I would've laid  \\nDown and died\",\n",
       " \"my life I would've laid  \\nDown and died \",\n",
       " \"y life I would've laid  \\nDown and died f\",\n",
       " \" life I would've laid  \\nDown and died fo\",\n",
       " \"life I would've laid  \\nDown and died for\",\n",
       " \"ife I would've laid  \\nDown and died for \",\n",
       " \"fe I would've laid  \\nDown and died for y\",\n",
       " \"e I would've laid  \\nDown and died for yo\",\n",
       " \" I would've laid  \\nDown and died for you\",\n",
       " \"I would've laid  \\nDown and died for you \",\n",
       " \" would've laid  \\nDown and died for you I\",\n",
       " \"would've laid  \\nDown and died for you I \",\n",
       " \"ould've laid  \\nDown and died for you I n\",\n",
       " \"uld've laid  \\nDown and died for you I no\",\n",
       " \"ld've laid  \\nDown and died for you I no \",\n",
       " \"d've laid  \\nDown and died for you I no l\",\n",
       " \"'ve laid  \\nDown and died for you I no lo\",\n",
       " 've laid  \\nDown and died for you I no lon',\n",
       " 'e laid  \\nDown and died for you I no long',\n",
       " ' laid  \\nDown and died for you I no longe',\n",
       " 'laid  \\nDown and died for you I no longer',\n",
       " 'aid  \\nDown and died for you I no longer ',\n",
       " 'id  \\nDown and died for you I no longer c',\n",
       " 'd  \\nDown and died for you I no longer cr',\n",
       " '  \\nDown and died for you I no longer cri',\n",
       " ' \\nDown and died for you I no longer crie',\n",
       " '\\nDown and died for you I no longer cried',\n",
       " 'Down and died for you I no longer cried ',\n",
       " 'own and died for you I no longer cried f',\n",
       " 'wn and died for you I no longer cried fo',\n",
       " 'n and died for you I no longer cried for',\n",
       " ' and died for you I no longer cried for ',\n",
       " 'and died for you I no longer cried for y',\n",
       " 'nd died for you I no longer cried for yo',\n",
       " 'd died for you I no longer cried for you',\n",
       " ' died for you I no longer cried for you ',\n",
       " 'died for you I no longer cried for you  ',\n",
       " 'ied for you I no longer cried for you  \\n',\n",
       " 'ed for you I no longer cried for you  \\nN',\n",
       " 'd for you I no longer cried for you  \\nNo',\n",
       " ' for you I no longer cried for you  \\nNo ',\n",
       " 'for you I no longer cried for you  \\nNo m',\n",
       " 'or you I no longer cried for you  \\nNo mo',\n",
       " 'r you I no longer cried for you  \\nNo mor',\n",
       " ' you I no longer cried for you  \\nNo more',\n",
       " 'you I no longer cried for you  \\nNo more ',\n",
       " 'ou I no longer cried for you  \\nNo more p',\n",
       " 'u I no longer cried for you  \\nNo more pa',\n",
       " ' I no longer cried for you  \\nNo more pai',\n",
       " 'I no longer cried for you  \\nNo more pain',\n",
       " ' no longer cried for you  \\nNo more pain ',\n",
       " 'no longer cried for you  \\nNo more pain b',\n",
       " 'o longer cried for you  \\nNo more pain bi',\n",
       " ' longer cried for you  \\nNo more pain bit',\n",
       " 'longer cried for you  \\nNo more pain bitc',\n",
       " 'onger cried for you  \\nNo more pain bitch',\n",
       " 'nger cried for you  \\nNo more pain bitch ',\n",
       " 'ger cried for you  \\nNo more pain bitch y',\n",
       " 'er cried for you  \\nNo more pain bitch yo',\n",
       " 'r cried for you  \\nNo more pain bitch you',\n",
       " ' cried for you  \\nNo more pain bitch you ',\n",
       " 'cried for you  \\nNo more pain bitch you  ',\n",
       " 'ried for you  \\nNo more pain bitch you  \\n',\n",
       " 'ied for you  \\nNo more pain bitch you  \\nT',\n",
       " 'ed for you  \\nNo more pain bitch you  \\nTo',\n",
       " 'd for you  \\nNo more pain bitch you  \\nToo',\n",
       " ' for you  \\nNo more pain bitch you  \\nTook',\n",
       " 'for you  \\nNo more pain bitch you  \\nTook ',\n",
       " 'or you  \\nNo more pain bitch you  \\nTook m',\n",
       " 'r you  \\nNo more pain bitch you  \\nTook me',\n",
       " ' you  \\nNo more pain bitch you  \\nTook me ',\n",
       " 'you  \\nNo more pain bitch you  \\nTook me f',\n",
       " 'ou  \\nNo more pain bitch you  \\nTook me fo',\n",
       " 'u  \\nNo more pain bitch you  \\nTook me for',\n",
       " '  \\nNo more pain bitch you  \\nTook me for ',\n",
       " ' \\nNo more pain bitch you  \\nTook me for g',\n",
       " '\\nNo more pain bitch you  \\nTook me for gr',\n",
       " 'No more pain bitch you  \\nTook me for gra',\n",
       " 'o more pain bitch you  \\nTook me for gran',\n",
       " ' more pain bitch you  \\nTook me for grant',\n",
       " 'more pain bitch you  \\nTook me for grante',\n",
       " 'ore pain bitch you  \\nTook me for granted',\n",
       " 're pain bitch you  \\nTook me for granted ',\n",
       " 'e pain bitch you  \\nTook me for granted t',\n",
       " ' pain bitch you  \\nTook me for granted to',\n",
       " 'pain bitch you  \\nTook me for granted too',\n",
       " 'ain bitch you  \\nTook me for granted took',\n",
       " 'in bitch you  \\nTook me for granted took ',\n",
       " 'n bitch you  \\nTook me for granted took m',\n",
       " ' bitch you  \\nTook me for granted took my',\n",
       " 'bitch you  \\nTook me for granted took my ',\n",
       " 'itch you  \\nTook me for granted took my h',\n",
       " 'tch you  \\nTook me for granted took my he',\n",
       " 'ch you  \\nTook me for granted took my hea',\n",
       " 'h you  \\nTook me for granted took my hear',\n",
       " ' you  \\nTook me for granted took my heart',\n",
       " 'you  \\nTook me for granted took my heart ',\n",
       " 'ou  \\nTook me for granted took my heart a',\n",
       " 'u  \\nTook me for granted took my heart an',\n",
       " '  \\nTook me for granted took my heart and',\n",
       " ' \\nTook me for granted took my heart and ',\n",
       " '\\nTook me for granted took my heart and r',\n",
       " 'Took me for granted took my heart and ra',\n",
       " 'ook me for granted took my heart and ran',\n",
       " 'ok me for granted took my heart and ran ',\n",
       " 'k me for granted took my heart and ran i',\n",
       " ' me for granted took my heart and ran it',\n",
       " 'me for granted took my heart and ran it ',\n",
       " 'e for granted took my heart and ran it s',\n",
       " ' for granted took my heart and ran it st',\n",
       " 'for granted took my heart and ran it str',\n",
       " 'or granted took my heart and ran it stra',\n",
       " 'r granted took my heart and ran it strai',\n",
       " ' granted took my heart and ran it straig',\n",
       " 'granted took my heart and ran it straigh',\n",
       " 'ranted took my heart and ran it straight',\n",
       " 'anted took my heart and ran it straight ',\n",
       " 'nted took my heart and ran it straight i',\n",
       " 'ted took my heart and ran it straight in',\n",
       " 'ed took my heart and ran it straight int',\n",
       " 'd took my heart and ran it straight into',\n",
       " ' took my heart and ran it straight into ',\n",
       " 'took my heart and ran it straight into t',\n",
       " 'ook my heart and ran it straight into th',\n",
       " 'ok my heart and ran it straight into the',\n",
       " 'k my heart and ran it straight into the ',\n",
       " ' my heart and ran it straight into the p',\n",
       " 'my heart and ran it straight into the pl',\n",
       " 'y heart and ran it straight into the pla',\n",
       " ' heart and ran it straight into the plan',\n",
       " 'heart and ran it straight into the plane',\n",
       " 'eart and ran it straight into the planet',\n",
       " 'art and ran it straight into the planet ',\n",
       " 'rt and ran it straight into the planet  ',\n",
       " 't and ran it straight into the planet  \\n',\n",
       " ' and ran it straight into the planet  \\nI',\n",
       " 'and ran it straight into the planet  \\nIn',\n",
       " 'nd ran it straight into the planet  \\nInt',\n",
       " 'd ran it straight into the planet  \\nInto',\n",
       " ' ran it straight into the planet  \\nInto ',\n",
       " 'ran it straight into the planet  \\nInto t',\n",
       " 'an it straight into the planet  \\nInto th',\n",
       " 'n it straight into the planet  \\nInto the',\n",
       " ' it straight into the planet  \\nInto the ',\n",
       " 'it straight into the planet  \\nInto the d',\n",
       " 't straight into the planet  \\nInto the di',\n",
       " ' straight into the planet  \\nInto the dir',\n",
       " 'straight into the planet  \\nInto the dirt',\n",
       " 'traight into the planet  \\nInto the dirt ',\n",
       " 'raight into the planet  \\nInto the dirt I',\n",
       " 'aight into the planet  \\nInto the dirt I ',\n",
       " 'ight into the planet  \\nInto the dirt I c',\n",
       " 'ght into the planet  \\nInto the dirt I ca',\n",
       " 'ht into the planet  \\nInto the dirt I can',\n",
       " 't into the planet  \\nInto the dirt I can ',\n",
       " ' into the planet  \\nInto the dirt I can n',\n",
       " 'into the planet  \\nInto the dirt I can no',\n",
       " 'nto the planet  \\nInto the dirt I can no ',\n",
       " 'to the planet  \\nInto the dirt I can no l',\n",
       " 'o the planet  \\nInto the dirt I can no lo',\n",
       " ' the planet  \\nInto the dirt I can no lon',\n",
       " 'the planet  \\nInto the dirt I can no long',\n",
       " 'he planet  \\nInto the dirt I can no longe',\n",
       " 'e planet  \\nInto the dirt I can no longer',\n",
       " ' planet  \\nInto the dirt I can no longer ',\n",
       " 'planet  \\nInto the dirt I can no longer s',\n",
       " 'lanet  \\nInto the dirt I can no longer st',\n",
       " 'anet  \\nInto the dirt I can no longer sta',\n",
       " 'net  \\nInto the dirt I can no longer stan',\n",
       " 'et  \\nInto the dirt I can no longer stand',\n",
       " 't  \\nInto the dirt I can no longer stand ',\n",
       " '  \\nInto the dirt I can no longer stand i',\n",
       " ' \\nInto the dirt I can no longer stand it',\n",
       " '\\nInto the dirt I can no longer stand it ',\n",
       " 'Into the dirt I can no longer stand it  ',\n",
       " 'nto the dirt I can no longer stand it  \\n',\n",
       " 'to the dirt I can no longer stand it  \\nN',\n",
       " 'o the dirt I can no longer stand it  \\nNo',\n",
       " ' the dirt I can no longer stand it  \\nNow',\n",
       " 'the dirt I can no longer stand it  \\nNow ',\n",
       " 'he dirt I can no longer stand it  \\nNow m',\n",
       " 'e dirt I can no longer stand it  \\nNow my',\n",
       " ' dirt I can no longer stand it  \\nNow my ',\n",
       " 'dirt I can no longer stand it  \\nNow my r',\n",
       " 'irt I can no longer stand it  \\nNow my re',\n",
       " 'rt I can no longer stand it  \\nNow my res',\n",
       " 't I can no longer stand it  \\nNow my resp',\n",
       " ' I can no longer stand it  \\nNow my respe',\n",
       " 'I can no longer stand it  \\nNow my respec',\n",
       " ' can no longer stand it  \\nNow my respect',\n",
       " 'can no longer stand it  \\nNow my respect ',\n",
       " 'an no longer stand it  \\nNow my respect I',\n",
       " 'n no longer stand it  \\nNow my respect I ',\n",
       " ' no longer stand it  \\nNow my respect I d',\n",
       " 'no longer stand it  \\nNow my respect I de',\n",
       " 'o longer stand it  \\nNow my respect I dem',\n",
       " ' longer stand it  \\nNow my respect I dema',\n",
       " 'longer stand it  \\nNow my respect I deman',\n",
       " 'onger stand it  \\nNow my respect I demand',\n",
       " 'nger stand it  \\nNow my respect I demand ',\n",
       " 'ger stand it  \\nNow my respect I demand i',\n",
       " 'er stand it  \\nNow my respect I demand it',\n",
       " 'r stand it  \\nNow my respect I demand it ',\n",
       " ' stand it  \\nNow my respect I demand it  ',\n",
       " 'stand it  \\nNow my respect I demand it  \\n',\n",
       " 'tand it  \\nNow my respect I demand it  \\nI',\n",
       " \"and it  \\nNow my respect I demand it  \\nI'\",\n",
       " \"nd it  \\nNow my respect I demand it  \\nI'm\",\n",
       " \"d it  \\nNow my respect I demand it  \\nI'm \",\n",
       " \" it  \\nNow my respect I demand it  \\nI'm a\",\n",
       " \"it  \\nNow my respect I demand it  \\nI'm a \",\n",
       " \"t  \\nNow my respect I demand it  \\nI'm a t\",\n",
       " \"  \\nNow my respect I demand it  \\nI'm a ta\",\n",
       " \" \\nNow my respect I demand it  \\nI'm a tak\",\n",
       " \"\\nNow my respect I demand it  \\nI'm a take\",\n",
       " \"Now my respect I demand it  \\nI'm a take \",\n",
       " \"ow my respect I demand it  \\nI'm a take c\",\n",
       " \"w my respect I demand it  \\nI'm a take co\",\n",
       " \" my respect I demand it  \\nI'm a take con\",\n",
       " \"my respect I demand it  \\nI'm a take cont\",\n",
       " \"y respect I demand it  \\nI'm a take contr\",\n",
       " \" respect I demand it  \\nI'm a take contro\",\n",
       " \"respect I demand it  \\nI'm a take control\",\n",
       " \"espect I demand it  \\nI'm a take control \",\n",
       " \"spect I demand it  \\nI'm a take control o\",\n",
       " \"pect I demand it  \\nI'm a take control of\",\n",
       " \"ect I demand it  \\nI'm a take control of \",\n",
       " \"ct I demand it  \\nI'm a take control of t\",\n",
       " \"t I demand it  \\nI'm a take control of th\",\n",
       " \" I demand it  \\nI'm a take control of thi\",\n",
       " \"I demand it  \\nI'm a take control of this\",\n",
       " \" demand it  \\nI'm a take control of this \",\n",
       " \"demand it  \\nI'm a take control of this r\",\n",
       " \"emand it  \\nI'm a take control of this re\",\n",
       " \"mand it  \\nI'm a take control of this rel\",\n",
       " \"and it  \\nI'm a take control of this rela\",\n",
       " \"nd it  \\nI'm a take control of this relat\",\n",
       " \"d it  \\nI'm a take control of this relati\",\n",
       " \" it  \\nI'm a take control of this relatio\",\n",
       " \"it  \\nI'm a take control of this relation\",\n",
       " \"t  \\nI'm a take control of this relations\",\n",
       " \"  \\nI'm a take control of this relationsh\",\n",
       " \" \\nI'm a take control of this relationshi\",\n",
       " \"\\nI'm a take control of this relationship\",\n",
       " \"I'm a take control of this relationship \",\n",
       " \"'m a take control of this relationship  \",\n",
       " 'm a take control of this relationship  \\n',\n",
       " ' a take control of this relationship  \\nC',\n",
       " 'a take control of this relationship  \\nCo',\n",
       " ' take control of this relationship  \\nCom',\n",
       " 'take control of this relationship  \\nComm',\n",
       " 'ake control of this relationship  \\nComma',\n",
       " 'ke control of this relationship  \\nComman',\n",
       " 'e control of this relationship  \\nCommand',\n",
       " ' control of this relationship  \\nCommand ',\n",
       " 'control of this relationship  \\nCommand i',\n",
       " 'ontrol of this relationship  \\nCommand it',\n",
       " 'ntrol of this relationship  \\nCommand it,',\n",
       " 'trol of this relationship  \\nCommand it, ',\n",
       " 'rol of this relationship  \\nCommand it, a',\n",
       " 'ol of this relationship  \\nCommand it, an',\n",
       " 'l of this relationship  \\nCommand it, and',\n",
       " ' of this relationship  \\nCommand it, and ',\n",
       " 'of this relationship  \\nCommand it, and I',\n",
       " \"f this relationship  \\nCommand it, and I'\",\n",
       " \" this relationship  \\nCommand it, and I'm\",\n",
       " \"this relationship  \\nCommand it, and I'm \",\n",
       " \"his relationship  \\nCommand it, and I'm a\",\n",
       " \"is relationship  \\nCommand it, and I'm a \",\n",
       " \"s relationship  \\nCommand it, and I'm a b\",\n",
       " \" relationship  \\nCommand it, and I'm a be\",\n",
       " \"relationship  \\nCommand it, and I'm a be \",\n",
       " \"elationship  \\nCommand it, and I'm a be t\",\n",
       " \"lationship  \\nCommand it, and I'm a be th\",\n",
       " \"ationship  \\nCommand it, and I'm a be the\",\n",
       " \"tionship  \\nCommand it, and I'm a be the \",\n",
       " \"ionship  \\nCommand it, and I'm a be the b\",\n",
       " \"onship  \\nCommand it, and I'm a be the bo\",\n",
       " \"nship  \\nCommand it, and I'm a be the bos\",\n",
       " \"ship  \\nCommand it, and I'm a be the boss\",\n",
       " \"hip  \\nCommand it, and I'm a be the boss \",\n",
       " \"ip  \\nCommand it, and I'm a be the boss o\",\n",
       " \"p  \\nCommand it, and I'm a be the boss of\",\n",
       " \"  \\nCommand it, and I'm a be the boss of \",\n",
       " \" \\nCommand it, and I'm a be the boss of y\",\n",
       " \"\\nCommand it, and I'm a be the boss of yo\",\n",
       " \"Command it, and I'm a be the boss of you\",\n",
       " \"ommand it, and I'm a be the boss of you \",\n",
       " \"mmand it, and I'm a be the boss of you n\",\n",
       " \"mand it, and I'm a be the boss of you no\",\n",
       " \"and it, and I'm a be the boss of you now\",\n",
       " \"nd it, and I'm a be the boss of you now \",\n",
       " \"d it, and I'm a be the boss of you now g\",\n",
       " \" it, and I'm a be the boss of you now go\",\n",
       " \"it, and I'm a be the boss of you now god\",\n",
       " \"t, and I'm a be the boss of you now godd\",\n",
       " \", and I'm a be the boss of you now godda\",\n",
       " \" and I'm a be the boss of you now goddam\",\n",
       " \"and I'm a be the boss of you now goddamm\",\n",
       " \"nd I'm a be the boss of you now goddammi\",\n",
       " \"d I'm a be the boss of you now goddammit\",\n",
       " \" I'm a be the boss of you now goddammit \",\n",
       " \"I'm a be the boss of you now goddammit  \",\n",
       " \"'m a be the boss of you now goddammit  \\n\",\n",
       " 'm a be the boss of you now goddammit  \\nA',\n",
       " ' a be the boss of you now goddammit  \\nAn',\n",
       " 'a be the boss of you now goddammit  \\nAnd',\n",
       " ' be the boss of you now goddammit  \\nAnd ',\n",
       " 'be the boss of you now goddammit  \\nAnd w',\n",
       " 'e the boss of you now goddammit  \\nAnd wh',\n",
       " ' the boss of you now goddammit  \\nAnd wha',\n",
       " 'the boss of you now goddammit  \\nAnd what',\n",
       " 'he boss of you now goddammit  \\nAnd what ',\n",
       " 'e boss of you now goddammit  \\nAnd what I',\n",
       " ' boss of you now goddammit  \\nAnd what I ',\n",
       " 'boss of you now goddammit  \\nAnd what I m',\n",
       " 'oss of you now goddammit  \\nAnd what I me',\n",
       " 'ss of you now goddammit  \\nAnd what I mea',\n",
       " 's of you now goddammit  \\nAnd what I mean',\n",
       " ' of you now goddammit  \\nAnd what I mean ',\n",
       " 'of you now goddammit  \\nAnd what I mean i',\n",
       " 'f you now goddammit  \\nAnd what I mean is',\n",
       " ' you now goddammit  \\nAnd what I mean is ',\n",
       " 'you now goddammit  \\nAnd what I mean is t',\n",
       " 'ou now goddammit  \\nAnd what I mean is th',\n",
       " 'u now goddammit  \\nAnd what I mean is tha',\n",
       " ' now goddammit  \\nAnd what I mean is that',\n",
       " 'now goddammit  \\nAnd what I mean is that ',\n",
       " 'ow goddammit  \\nAnd what I mean is that I',\n",
       " 'w goddammit  \\nAnd what I mean is that I ',\n",
       " ' goddammit  \\nAnd what I mean is that I w',\n",
       " 'goddammit  \\nAnd what I mean is that I wi',\n",
       " 'oddammit  \\nAnd what I mean is that I wil',\n",
       " 'ddammit  \\nAnd what I mean is that I will',\n",
       " 'dammit  \\nAnd what I mean is that I will ',\n",
       " 'ammit  \\nAnd what I mean is that I will n',\n",
       " 'mmit  \\nAnd what I mean is that I will no',\n",
       " 'mit  \\nAnd what I mean is that I will no ',\n",
       " 'it  \\nAnd what I mean is that I will no l',\n",
       " 't  \\nAnd what I mean is that I will no lo',\n",
       " '  \\nAnd what I mean is that I will no lon',\n",
       " ' \\nAnd what I mean is that I will no long',\n",
       " '\\nAnd what I mean is that I will no longe',\n",
       " 'And what I mean is that I will no longer',\n",
       " 'nd what I mean is that I will no longer ',\n",
       " 'd what I mean is that I will no longer l',\n",
       " ' what I mean is that I will no longer le',\n",
       " 'what I mean is that I will no longer let',\n",
       " 'hat I mean is that I will no longer let ',\n",
       " 'at I mean is that I will no longer let y',\n",
       " 't I mean is that I will no longer let yo',\n",
       " ' I mean is that I will no longer let you',\n",
       " 'I mean is that I will no longer let you ',\n",
       " ' mean is that I will no longer let you c',\n",
       " 'mean is that I will no longer let you co',\n",
       " 'ean is that I will no longer let you con',\n",
       " 'an is that I will no longer let you cont',\n",
       " 'n is that I will no longer let you contr',\n",
       " ' is that I will no longer let you contro',\n",
       " 'is that I will no longer let you control',\n",
       " 's that I will no longer let you control ',\n",
       " ' that I will no longer let you control m',\n",
       " 'that I will no longer let you control me',\n",
       " 'hat I will no longer let you control me ',\n",
       " 'at I will no longer let you control me  ',\n",
       " 't I will no longer let you control me  \\n',\n",
       " ' I will no longer let you control me  \\nS',\n",
       " 'I will no longer let you control me  \\nSo',\n",
       " ' will no longer let you control me  \\nSo ',\n",
       " 'will no longer let you control me  \\nSo y',\n",
       " 'ill no longer let you control me  \\nSo yo',\n",
       " 'll no longer let you control me  \\nSo you',\n",
       " 'l no longer let you control me  \\nSo you ',\n",
       " ' no longer let you control me  \\nSo you b',\n",
       " 'no longer let you control me  \\nSo you be',\n",
       " 'o longer let you control me  \\nSo you bet',\n",
       " ' longer let you control me  \\nSo you bett',\n",
       " 'longer let you control me  \\nSo you bette',\n",
       " 'onger let you control me  \\nSo you better',\n",
       " 'nger let you control me  \\nSo you better ',\n",
       " 'ger let you control me  \\nSo you better h',\n",
       " 'er let you control me  \\nSo you better he',\n",
       " 'r let you control me  \\nSo you better hea',\n",
       " ' let you control me  \\nSo you better hear',\n",
       " 'let you control me  \\nSo you better hear ',\n",
       " 'et you control me  \\nSo you better hear m',\n",
       " 't you control me  \\nSo you better hear me',\n",
       " ' you control me  \\nSo you better hear me ',\n",
       " 'you control me  \\nSo you better hear me o',\n",
       " 'ou control me  \\nSo you better hear me ou',\n",
       " 'u control me  \\nSo you better hear me out',\n",
       " ' control me  \\nSo you better hear me out ',\n",
       " 'control me  \\nSo you better hear me out t',\n",
       " 'ontrol me  \\nSo you better hear me out th',\n",
       " 'ntrol me  \\nSo you better hear me out thi',\n",
       " 'trol me  \\nSo you better hear me out this',\n",
       " 'rol me  \\nSo you better hear me out this ',\n",
       " 'ol me  \\nSo you better hear me out this m',\n",
       " 'l me  \\nSo you better hear me out this mu',\n",
       " ' me  \\nSo you better hear me out this muc',\n",
       " 'me  \\nSo you better hear me out this much',\n",
       " 'e  \\nSo you better hear me out this much ',\n",
       " '  \\nSo you better hear me out this much y',\n",
       " ' \\nSo you better hear me out this much yo',\n",
       " '\\nSo you better hear me out this much you',\n",
       " 'So you better hear me out this much you ',\n",
       " 'o you better hear me out this much you o',\n",
       " ' you better hear me out this much you ow',\n",
       " 'you better hear me out this much you owe',\n",
       " 'ou better hear me out this much you owe ',\n",
       " 'u better hear me out this much you owe m',\n",
       " ' better hear me out this much you owe me',\n",
       " 'better hear me out this much you owe me ',\n",
       " 'etter hear me out this much you owe me  ',\n",
       " 'tter hear me out this much you owe me  \\n',\n",
       " 'ter hear me out this much you owe me  \\nI',\n",
       " 'er hear me out this much you owe me  \\nI ',\n",
       " 'r hear me out this much you owe me  \\nI g',\n",
       " ' hear me out this much you owe me  \\nI ga',\n",
       " 'hear me out this much you owe me  \\nI gav',\n",
       " 'ear me out this much you owe me  \\nI gave',\n",
       " 'ar me out this much you owe me  \\nI gave ',\n",
       " 'r me out this much you owe me  \\nI gave u',\n",
       " ' me out this much you owe me  \\nI gave up',\n",
       " 'me out this much you owe me  \\nI gave up ',\n",
       " 'e out this much you owe me  \\nI gave up m',\n",
       " ' out this much you owe me  \\nI gave up my',\n",
       " 'out this much you owe me  \\nI gave up my ',\n",
       " 'ut this much you owe me  \\nI gave up my l',\n",
       " 't this much you owe me  \\nI gave up my li',\n",
       " ' this much you owe me  \\nI gave up my lif',\n",
       " 'this much you owe me  \\nI gave up my life',\n",
       " 'his much you owe me  \\nI gave up my life ',\n",
       " 'is much you owe me  \\nI gave up my life f',\n",
       " 's much you owe me  \\nI gave up my life fo',\n",
       " ' much you owe me  \\nI gave up my life for',\n",
       " 'much you owe me  \\nI gave up my life for ',\n",
       " 'uch you owe me  \\nI gave up my life for y',\n",
       " 'ch you owe me  \\nI gave up my life for yo',\n",
       " 'h you owe me  \\nI gave up my life for you',\n",
       " ' you owe me  \\nI gave up my life for you,',\n",
       " 'you owe me  \\nI gave up my life for you, ',\n",
       " 'ou owe me  \\nI gave up my life for you, t',\n",
       " 'u owe me  \\nI gave up my life for you, to',\n",
       " ' owe me  \\nI gave up my life for you, tot',\n",
       " 'owe me  \\nI gave up my life for you, tota',\n",
       " 'we me  \\nI gave up my life for you, total',\n",
       " 'e me  \\nI gave up my life for you, totall',\n",
       " ' me  \\nI gave up my life for you, totally',\n",
       " 'me  \\nI gave up my life for you, totally ',\n",
       " 'e  \\nI gave up my life for you, totally d',\n",
       " '  \\nI gave up my life for you, totally de',\n",
       " ' \\nI gave up my life for you, totally dev',\n",
       " '\\nI gave up my life for you, totally devo',\n",
       " 'I gave up my life for you, totally devot',\n",
       " ' gave up my life for you, totally devote',\n",
       " 'gave up my life for you, totally devoted',\n",
       " 'ave up my life for you, totally devoted ',\n",
       " 've up my life for you, totally devoted t',\n",
       " 'e up my life for you, totally devoted to',\n",
       " ' up my life for you, totally devoted to ',\n",
       " 'up my life for you, totally devoted to y',\n",
       " 'p my life for you, totally devoted to yo',\n",
       " ' my life for you, totally devoted to you',\n",
       " 'my life for you, totally devoted to you ',\n",
       " 'y life for you, totally devoted to you w',\n",
       " ' life for you, totally devoted to you wh',\n",
       " 'life for you, totally devoted to you whi',\n",
       " 'ife for you, totally devoted to you whil',\n",
       " 'fe for you, totally devoted to you while',\n",
       " 'e for you, totally devoted to you while ',\n",
       " ' for you, totally devoted to you while I',\n",
       " \"for you, totally devoted to you while I'\",\n",
       " \"or you, totally devoted to you while I'v\",\n",
       " \"r you, totally devoted to you while I've\",\n",
       " \" you, totally devoted to you while I've \",\n",
       " \"you, totally devoted to you while I've s\",\n",
       " \"ou, totally devoted to you while I've st\",\n",
       " \"u, totally devoted to you while I've sta\",\n",
       " \", totally devoted to you while I've stay\",\n",
       " \" totally devoted to you while I've staye\",\n",
       " \"totally devoted to you while I've stayed\",\n",
       " \"otally devoted to you while I've stayed \",\n",
       " \"tally devoted to you while I've stayed  \",\n",
       " \"ally devoted to you while I've stayed  \\n\",\n",
       " \"lly devoted to you while I've stayed  \\nF\",\n",
       " \"ly devoted to you while I've stayed  \\nFa\",\n",
       " \"y devoted to you while I've stayed  \\nFai\",\n",
       " \" devoted to you while I've stayed  \\nFait\",\n",
       " \"devoted to you while I've stayed  \\nFaith\",\n",
       " \"evoted to you while I've stayed  \\nFaithf\",\n",
       " \"voted to you while I've stayed  \\nFaithfu\",\n",
       " \"oted to you while I've stayed  \\nFaithful\",\n",
       " \"ted to you while I've stayed  \\nFaithful \",\n",
       " \"ed to you while I've stayed  \\nFaithful a\",\n",
       " \"d to you while I've stayed  \\nFaithful al\",\n",
       " \" to you while I've stayed  \\nFaithful all\",\n",
       " \"to you while I've stayed  \\nFaithful all \",\n",
       " \"o you while I've stayed  \\nFaithful all t\",\n",
       " \" you while I've stayed  \\nFaithful all th\",\n",
       " \"you while I've stayed  \\nFaithful all the\",\n",
       " \"ou while I've stayed  \\nFaithful all the \",\n",
       " \"u while I've stayed  \\nFaithful all the w\",\n",
       " \" while I've stayed  \\nFaithful all the wa\",\n",
       " \"while I've stayed  \\nFaithful all the way\",\n",
       " \"hile I've stayed  \\nFaithful all the way \",\n",
       " \"ile I've stayed  \\nFaithful all the way t\",\n",
       " \"le I've stayed  \\nFaithful all the way th\",\n",
       " \"e I've stayed  \\nFaithful all the way thi\",\n",
       " \" I've stayed  \\nFaithful all the way this\",\n",
       " \"I've stayed  \\nFaithful all the way this \",\n",
       " \"'ve stayed  \\nFaithful all the way this i\",\n",
       " 've stayed  \\nFaithful all the way this is',\n",
       " 'e stayed  \\nFaithful all the way this is ',\n",
       " ' stayed  \\nFaithful all the way this is h',\n",
       " 'stayed  \\nFaithful all the way this is ho',\n",
       " 'tayed  \\nFaithful all the way this is how',\n",
       " 'ayed  \\nFaithful all the way this is how ',\n",
       " 'yed  \\nFaithful all the way this is how I',\n",
       " 'ed  \\nFaithful all the way this is how I ',\n",
       " 'd  \\nFaithful all the way this is how I f',\n",
       " '  \\nFaithful all the way this is how I fu',\n",
       " ' \\nFaithful all the way this is how I fuc',\n",
       " '\\nFaithful all the way this is how I fuck',\n",
       " 'Faithful all the way this is how I fucki',\n",
       " 'aithful all the way this is how I fuckin',\n",
       " 'ithful all the way this is how I fucking',\n",
       " 'thful all the way this is how I fucking ',\n",
       " 'hful all the way this is how I fucking g',\n",
       " 'ful all the way this is how I fucking ge',\n",
       " 'ul all the way this is how I fucking get',\n",
       " 'l all the way this is how I fucking get ',\n",
       " ' all the way this is how I fucking get r',\n",
       " 'all the way this is how I fucking get re',\n",
       " 'll the way this is how I fucking get rep',\n",
       " 'l the way this is how I fucking get repa',\n",
       " ' the way this is how I fucking get repai',\n",
       " 'the way this is how I fucking get repaid',\n",
       " 'he way this is how I fucking get repaid ',\n",
       " 'e way this is how I fucking get repaid  ',\n",
       " ' way this is how I fucking get repaid  \\n',\n",
       " 'way this is how I fucking get repaid  \\nL',\n",
       " 'ay this is how I fucking get repaid  \\nLo',\n",
       " 'y this is how I fucking get repaid  \\nLoo',\n",
       " ' this is how I fucking get repaid  \\nLook',\n",
       " 'this is how I fucking get repaid  \\nLook ',\n",
       " 'his is how I fucking get repaid  \\nLook a',\n",
       " 'is is how I fucking get repaid  \\nLook at',\n",
       " 's is how I fucking get repaid  \\nLook at ',\n",
       " ' is how I fucking get repaid  \\nLook at h',\n",
       " 'is how I fucking get repaid  \\nLook at ho',\n",
       " 's how I fucking get repaid  \\nLook at how',\n",
       " ' how I fucking get repaid  \\nLook at how ',\n",
       " 'how I fucking get repaid  \\nLook at how I',\n",
       " 'ow I fucking get repaid  \\nLook at how I ',\n",
       " 'w I fucking get repaid  \\nLook at how I d',\n",
       " ' I fucking get repaid  \\nLook at how I dr',\n",
       " 'I fucking get repaid  \\nLook at how I dre',\n",
       " ' fucking get repaid  \\nLook at how I dres',\n",
       " 'fucking get repaid  \\nLook at how I dress',\n",
       " 'ucking get repaid  \\nLook at how I dress ',\n",
       " 'cking get repaid  \\nLook at how I dress f',\n",
       " 'king get repaid  \\nLook at how I dress fu',\n",
       " 'ing get repaid  \\nLook at how I dress fuc',\n",
       " 'ng get repaid  \\nLook at how I dress fuck',\n",
       " 'g get repaid  \\nLook at how I dress fucki',\n",
       " ' get repaid  \\nLook at how I dress fuckin',\n",
       " 'get repaid  \\nLook at how I dress fucking',\n",
       " 'et repaid  \\nLook at how I dress fucking ',\n",
       " 't repaid  \\nLook at how I dress fucking b',\n",
       " ' repaid  \\nLook at how I dress fucking ba',\n",
       " 'repaid  \\nLook at how I dress fucking bag',\n",
       " 'epaid  \\nLook at how I dress fucking bagg',\n",
       " 'paid  \\nLook at how I dress fucking baggy',\n",
       " 'aid  \\nLook at how I dress fucking baggy ',\n",
       " 'id  \\nLook at how I dress fucking baggy s',\n",
       " 'd  \\nLook at how I dress fucking baggy sw',\n",
       " '  \\nLook at how I dress fucking baggy swe',\n",
       " ' \\nLook at how I dress fucking baggy swea',\n",
       " '\\nLook at how I dress fucking baggy sweat',\n",
       " 'Look at how I dress fucking baggy sweats',\n",
       " 'ook at how I dress fucking baggy sweats,',\n",
       " 'ok at how I dress fucking baggy sweats, ',\n",
       " 'k at how I dress fucking baggy sweats, g',\n",
       " ' at how I dress fucking baggy sweats, go',\n",
       " 'at how I dress fucking baggy sweats, go ',\n",
       " ...]"
      ]
     },
     "execution_count": 314,
     "metadata": {},
     "output_type": "execute_result"
    }
   ],
   "source": [
    "sentences=[]\n",
    "next_char=[]\n",
    "for i in range(len(lyric)-maxlen-1):\n",
    "    sentences.append(lyric[i:i+maxlen])\n",
    "    next_char.append(lyric[i+maxlen])\n",
    "sentences"
   ]
  },
  {
   "cell_type": "code",
   "execution_count": 320,
   "metadata": {
    "collapsed": true
   },
   "outputs": [],
   "source": [
    "X=np.zeros((len(sentences),maxlen,vocab_size))\n",
    "y=np.zeros((len(sentences),vocab_size))\n",
    "for ix in range(len(sentences)):\n",
    "    y[ix,char_ix[next_char[ix]]]=1\n",
    "    for iy in range(maxlen):\n",
    "        X[ix,iy,char_ix[sentences[ix][iy]]]=1\n"
   ]
  },
  {
   "cell_type": "code",
   "execution_count": 38,
   "metadata": {
    "collapsed": true
   },
   "outputs": [],
   "source": [
    "from keras.layers import Activation,LSTM,Dense\n",
    "from keras.optimizers import Adam"
   ]
  },
  {
   "cell_type": "code",
   "execution_count": 327,
   "metadata": {},
   "outputs": [
    {
     "name": "stdout",
     "output_type": "stream",
     "text": [
      "_________________________________________________________________\n",
      "Layer (type)                 Output Shape              Param #   \n",
      "=================================================================\n",
      "lstm_3 (LSTM)                (None, 128)               104960    \n",
      "_________________________________________________________________\n",
      "dense_3 (Dense)              (None, 76)                9804      \n",
      "_________________________________________________________________\n",
      "activation_2 (Activation)    (None, 76)                0         \n",
      "=================================================================\n",
      "Total params: 114,764\n",
      "Trainable params: 114,764\n",
      "Non-trainable params: 0\n",
      "_________________________________________________________________\n"
     ]
    }
   ],
   "source": [
    "model=Sequential()\n",
    "model.add(LSTM(128,input_shape=(maxlen,vocab_size)))\n",
    "model.add(Dense(vocab_size))\n",
    "model.add(Activation('softmax'))\n",
    "model.summary()\n",
    "model.compile(optimizer=Adam(lr=0.01),loss='categorical_crossentropy')"
   ]
  },
  {
   "cell_type": "code",
   "execution_count": 328,
   "metadata": {},
   "outputs": [
    {
     "name": "stdout",
     "output_type": "stream",
     "text": [
      "Epoch 1/5\n",
      "194230/194230 [==============================] - 298s 2ms/step - loss: 2.0182\n",
      "Epoch 2/5\n",
      "194230/194230 [==============================] - 286s 1ms/step - loss: 1.6912\n",
      "Epoch 3/5\n",
      "194230/194230 [==============================] - 272s 1ms/step - loss: 1.6024\n",
      "Epoch 4/5\n",
      "194230/194230 [==============================] - 257s 1ms/step - loss: 1.5534\n",
      "Epoch 5/5\n",
      "194230/194230 [==============================] - 261s 1ms/step - loss: 1.5208\n"
     ]
    },
    {
     "data": {
      "text/plain": [
       "<keras.callbacks.History at 0x24a9c3b57b8>"
      ]
     },
     "execution_count": 328,
     "metadata": {},
     "output_type": "execute_result"
    }
   ],
   "source": [
    "model.fit(X,y,epochs=5,batch_size=128)"
   ]
  },
  {
   "cell_type": "code",
   "execution_count": 329,
   "metadata": {},
   "outputs": [
    {
     "name": "stdout",
     "output_type": "stream",
     "text": [
      "Saved model to disk\n"
     ]
    }
   ],
   "source": [
    "model_json = model.to_json()\n",
    "with open(\"model.json\", \"w\") as json_file:\n",
    "    json_file.write(model_json)\n",
    "model.save_weights(\"model.h5\")\n",
    "print(\"Saved model to disk\")"
   ]
  },
  {
   "cell_type": "code",
   "execution_count": 331,
   "metadata": {
    "collapsed": true
   },
   "outputs": [],
   "source": [
    "import random\n",
    "generated=''\n",
    "start_index=random.randint(0,len(lyric)-maxlen-1)\n",
    "sent=lyric[start_index:start_index+maxlen]\n",
    "generated+=sent\n",
    "for i in range(1900):\n",
    "    x_sample=generated[i:i+maxlen]\n",
    "    x=np.zeros((1,maxlen,vocab_size))\n",
    "    for j in range(maxlen):\n",
    "        x[0,j,char_ix[x_sample[j]]]=1\n",
    "    probs=model.predict(x)\n",
    "    probs=np.reshape(probs,probs.shape[1])\n",
    "    ix=np.random.choice(range(vocab_size),p=probs.ravel())\n",
    "    generated+=ix_char[ix]"
   ]
  },
  {
   "cell_type": "markdown",
   "metadata": {},
   "source": [
    "### Computer generated Character based eminem Lyric (Character based)"
   ]
  },
  {
   "cell_type": "code",
   "execution_count": 334,
   "metadata": {},
   "outputs": [
    {
     "data": {
      "text/plain": [
       "['',\n",
       " \"And I have to say this all sound about vestom firmin' from back?  \",\n",
       " \"I descurted iss clailing, and I can't stepy  \",\n",
       " 'And dug tof breather duck or scratching, plant  ',\n",
       " \"I momming comin' to changers  \",\n",
       " 'Contemple',\n",
       " '',\n",
       " 'Now eating your  ',\n",
       " 'You aims fucked what is do this in me lets to it ',\n",
       " 'Unturns, ar. walk  ',\n",
       " 'Fuck just cause the phast Born till day to I heal no mokn of crimes  ',\n",
       " '  ',\n",
       " '[Chorus]  ',\n",
       " \"All the'r strallin it!  \",\n",
       " 'Flied sometimes motherfucker  ',\n",
       " 'Never do youw  ',\n",
       " 'Junt to  ',\n",
       " 'The bitacker\" that use and suttack strang, now fact when housed on your murdd-off)  ',\n",
       " 'Holdany new day, cold to m-tatiage of there these crime  ',\n",
       " 'My asty woald over fucking it, our everything a pick they you, tell wetterint baff  ',\n",
       " 'Laygen in Else  ',\n",
       " '  ',\n",
       " 'Yat me they invacelm toor greats  ',\n",
       " 'Now I get awaut from the mean exciit, he to there and world  ',\n",
       " \"Hife to nastin' now you in your sirture  \",\n",
       " '  ',\n",
       " '[Chorus:]  ',\n",
       " \"Dip bole bedor praying druisan, I'd mack, , they'll dountict hold the need, the shit  \",\n",
       " \"Yell, he's famu greak of exigeb ur Slay, pincer hell lady had to gice does on neha  \",\n",
       " 'Withing the high, one - ErBeyh, your music off it  ',\n",
       " \"And you're much (You all bull my monmy coming, trych do you do than fufions, she just  \",\n",
       " \"She spartertle tapemal, doo'?  \",\n",
       " 'Now nakin ass',\n",
       " '[Chorus: OKio]  ',\n",
       " \"(I'm love up!  \",\n",
       " 'A papililed to tage, him kize oving in a worl Rm thing is my Mennybarry  ',\n",
       " \"Everyde's tant if mut and choice (gullsto) on, naptie  \",\n",
       " \"And goina don't sask the bud that that wead I'm clampip on Colled  \",\n",
       " \"I'd alrack on yoa the chance  \",\n",
       " \"I war stand and the grab be funna head, the mom breatin'  \",\n",
       " \"We don't God It's other suce to Floate your back and stand, , I'm crazy allicuten with a fings  \",\n",
       " 'then the would steple, out, that Dentscille  ',\n",
       " 'Boul not the wind, Showes her rese me  ',\n",
       " 'teenst as thing they!  ',\n",
       " \"I dude I don't seen what from me (Yea, I never bare  \",\n",
       " '',\n",
       " \"Don't want to mudunach left  \",\n",
       " \"Nody's seems to find  \",\n",
       " \"Sylley may in seem people game sayin'  \",\n",
       " \"'durterin  \",\n",
       " \"He come there doy's glosheld corn\"]"
      ]
     },
     "execution_count": 334,
     "metadata": {},
     "output_type": "execute_result"
    }
   ],
   "source": [
    "generated.split(\"\\n\")"
   ]
  },
  {
   "cell_type": "markdown",
   "metadata": {},
   "source": [
    "### Since this is character based, many words don't make sense....let's check out the word based model"
   ]
  },
  {
   "cell_type": "markdown",
   "metadata": {},
   "source": [
    "## Word based Model"
   ]
  },
  {
   "cell_type": "code",
   "execution_count": 13,
   "metadata": {},
   "outputs": [],
   "source": [
    "from unidecode import unidecode\n",
    "def get_tokenized_lines(df):\n",
    "    words = []\n",
    "    \n",
    "    for index, row in df['text'].iteritems():\n",
    "        row = str(row).lower()\n",
    "        for line in row.split('\\n'):\n",
    "            new_words = re.findall(r\"\\b[a-z']+\\b\", unidecode(line))\n",
    "            words = words + new_words\n",
    "        \n",
    "    return words"
   ]
  },
  {
   "cell_type": "code",
   "execution_count": 16,
   "metadata": {},
   "outputs": [],
   "source": [
    "all_lyric_lines = get_tokenized_lines(eminem)"
   ]
  },
  {
   "cell_type": "code",
   "execution_count": 17,
   "metadata": {},
   "outputs": [
    {
     "name": "stdout",
     "output_type": "stream",
     "text": [
      "Total Sequences: 36266\n"
     ]
    }
   ],
   "source": [
    "SEQ_LENGTH = 50 + 1\n",
    "sequences = list()\n",
    "\n",
    "for i in range(SEQ_LENGTH, len(all_lyric_lines)):\n",
    "    seq = all_lyric_lines[i - SEQ_LENGTH: i]\n",
    "    sequences.append(seq)\n",
    "\n",
    "print('Total Sequences: %d' % len(sequences))"
   ]
  },
  {
   "cell_type": "code",
   "execution_count": 18,
   "metadata": {},
   "outputs": [
    {
     "name": "stdout",
     "output_type": "stream",
     "text": [
      "vocabulary size: 5224\n"
     ]
    }
   ],
   "source": [
    "vocab = set(all_lyric_lines)\n",
    "\n",
    "word_to_index = {w: i for i, w in enumerate(vocab)}\n",
    "index_to_word = {i: w for w, i in word_to_index.items()}\n",
    "word_indices = [word_to_index[word] for word in vocab]\n",
    "vocab_size = len(vocab)\n",
    "\n",
    "print('vocabulary size: {}'.format(vocab_size))"
   ]
  },
  {
   "cell_type": "code",
   "execution_count": 19,
   "metadata": {
    "collapsed": true
   },
   "outputs": [],
   "source": [
    "def get_tokenized_lines(lines, seq_len):\n",
    "    tokenized = np.zeros((len(lines), seq_len))\n",
    "    \n",
    "    for r, line in enumerate(lines):\n",
    "        for c, word in enumerate(line):\n",
    "            tokenized[r, c] = word_to_index[word]\n",
    "\n",
    "    return tokenized\n"
   ]
  },
  {
   "cell_type": "code",
   "execution_count": 20,
   "metadata": {
    "collapsed": true
   },
   "outputs": [],
   "source": [
    "tokenized_seq = get_tokenized_lines(sequences, SEQ_LENGTH)"
   ]
  },
  {
   "cell_type": "code",
   "execution_count": 21,
   "metadata": {},
   "outputs": [
    {
     "data": {
      "text/plain": [
       "(36266,)"
      ]
     },
     "execution_count": 21,
     "metadata": {},
     "output_type": "execute_result"
    }
   ],
   "source": [
    "tokenized_seq[:, -1].shape"
   ]
  },
  {
   "cell_type": "code",
   "execution_count": 23,
   "metadata": {},
   "outputs": [
    {
     "name": "stdout",
     "output_type": "stream",
     "text": [
      "X_shape (36266, 50)\n",
      "y_shape (36266, 5224)\n"
     ]
    }
   ],
   "source": [
    "X, y = tokenized_seq[:, :-1], tokenized_seq[:, -1]\n",
    "y = to_categorical(y, num_classes=vocab_size)\n",
    "seq_length = len(X[0])\n",
    "\n",
    "print(\"X_shape\", X.shape)\n",
    "print(\"y_shape\", y.shape)\n"
   ]
  },
  {
   "cell_type": "code",
   "execution_count": 65,
   "metadata": {
    "scrolled": true
   },
   "outputs": [
    {
     "name": "stdout",
     "output_type": "stream",
     "text": [
      "_________________________________________________________________\n",
      "Layer (type)                 Output Shape              Param #   \n",
      "=================================================================\n",
      "embedding_3 (Embedding)      (None, 50, 50)            261200    \n",
      "_________________________________________________________________\n",
      "lstm_5 (LSTM)                (None, 50, 100)           60400     \n",
      "_________________________________________________________________\n",
      "lstm_6 (LSTM)                (None, 100)               80400     \n",
      "_________________________________________________________________\n",
      "dense_3 (Dense)              (None, 100)               10100     \n",
      "_________________________________________________________________\n",
      "dense_4 (Dense)              (None, 5224)              527624    \n",
      "=================================================================\n",
      "Total params: 939,724\n",
      "Trainable params: 939,724\n",
      "Non-trainable params: 0\n",
      "_________________________________________________________________\n",
      "None\n",
      "Epoch 1/10\n",
      "36266/36266 [==============================] - 162s 4ms/step - loss: 6.8858 - acc: 0.0334\n",
      "Epoch 2/10\n",
      "36266/36266 [==============================] - 170s 5ms/step - loss: 6.4800 - acc: 0.0336\n",
      "Epoch 3/10\n",
      "36266/36266 [==============================] - 177s 5ms/step - loss: 6.3095 - acc: 0.0397\n",
      "Epoch 4/10\n",
      "36266/36266 [==============================] - 181s 5ms/step - loss: 6.2080 - acc: 0.0413\n",
      "Epoch 5/10\n",
      "36266/36266 [==============================] - 162s 4ms/step - loss: 6.2230 - acc: 0.0422\n",
      "Epoch 6/10\n",
      "36266/36266 [==============================] - 163s 5ms/step - loss: 6.1005 - acc: 0.0441\n",
      "Epoch 7/10\n",
      "36266/36266 [==============================] - 167s 5ms/step - loss: 5.9610 - acc: 0.0494\n",
      "Epoch 8/10\n",
      "36266/36266 [==============================] - 171s 5ms/step - loss: 5.8342 - acc: 0.0591\n",
      "Epoch 9/10\n",
      "36266/36266 [==============================] - 164s 5ms/step - loss: 5.7193 - acc: 0.0656\n",
      "Epoch 10/10\n",
      "36266/36266 [==============================] - 154s 4ms/step - loss: 5.6116 - acc: 0.0719\n"
     ]
    },
    {
     "data": {
      "text/plain": [
       "<keras.callbacks.History at 0x1ef39db9b00>"
      ]
     },
     "execution_count": 65,
     "metadata": {},
     "output_type": "execute_result"
    }
   ],
   "source": [
    "model = Sequential()\n",
    "model.add(Embedding(vocab_size, 50, input_length=seq_length))\n",
    "model.add(LSTM(100, return_sequences=True))\n",
    "model.add(LSTM(100))\n",
    "model.add(Dense(100, activation='relu'))\n",
    "model.add(Dense(vocab_size, activation='softmax'))\n",
    "print(model.summary())\n",
    "\n",
    "model.compile(loss='categorical_crossentropy', optimizer='adam', metrics=['accuracy'])\n",
    "model.fit(X, y, batch_size=128, epochs=10)\n"
   ]
  },
  {
   "cell_type": "markdown",
   "metadata": {},
   "source": [
    "### I'm Using the Mockingbird lyric as the seed"
   ]
  },
  {
   "cell_type": "code",
   "execution_count": 66,
   "metadata": {},
   "outputs": [],
   "source": [
    "seed_text = \"Hailie i know you miss your mom and i know you miss your dad well i'm gone but i'm trying to give you the life that i never had i can see you're sad even when you smile even when you laugh i can see it in your eyes deep inside\""
   ]
  },
  {
   "cell_type": "code",
   "execution_count": 29,
   "metadata": {
    "collapsed": true
   },
   "outputs": [],
   "source": [
    "def texts_to_sequences(texts, word_to_index):\n",
    "    indices = np.zeros((1, len(texts)), dtype=int)\n",
    "    \n",
    "    for i, text in enumerate(texts):\n",
    "        indices[:, i] = word_to_index[text]\n",
    "        \n",
    "    return indices\n"
   ]
  },
  {
   "cell_type": "code",
   "execution_count": 30,
   "metadata": {
    "collapsed": true
   },
   "outputs": [],
   "source": [
    "def my_pad_sequences(seq, maxlen):\n",
    "    start = seq.shape[1] - maxlen\n",
    "    \n",
    "    return seq[:, start: start + maxlen]\n"
   ]
  },
  {
   "cell_type": "code",
   "execution_count": 67,
   "metadata": {
    "collapsed": true
   },
   "outputs": [],
   "source": [
    "def generate_seq(model, word_to_index, seq_length, seed_text, n_words):\n",
    "    result = list()\n",
    "    in_text = seed_text\n",
    "\n",
    "    for _ in range(n_words):\n",
    "        encoded = texts_to_sequences(in_text.split()[1:], word_to_index)\n",
    "        encoded = my_pad_sequences(encoded, maxlen=seq_length)\n",
    "        \n",
    "        yhat = model.predict_classes(encoded, verbose=0)\n",
    "        out_word = ''\n",
    "    \n",
    "        for word, index in word_to_index.items():\n",
    "            if index == yhat:\n",
    "                out_word = word\n",
    "                break\n",
    "        \n",
    "        in_text += ' ' + out_word\n",
    "        result.append(out_word)\n",
    "        \n",
    "    return ' '.join(result)\n"
   ]
  },
  {
   "cell_type": "code",
   "execution_count": 72,
   "metadata": {},
   "outputs": [
    {
     "name": "stdout",
     "output_type": "stream",
     "text": [
      "the way i don't know i don't know i don't know i don't know i don't know i don't know i don't know i don't know i don't know i don't know i don't know i don't know i don't know i don't know i don't know i don't know\n"
     ]
    }
   ],
   "source": [
    "generated = generate_seq(model, word_to_index, seq_length, seed_text, 50)\n",
    "print(generated)\n"
   ]
  },
  {
   "cell_type": "markdown",
   "metadata": {},
   "source": [
    "### The most probable words seem to repeat in word level embedding ( Needs more epochs or data)"
   ]
  },
  {
   "cell_type": "markdown",
   "metadata": {},
   "source": [
    "# Words2vec"
   ]
  },
  {
   "cell_type": "code",
   "execution_count": 149,
   "metadata": {},
   "outputs": [],
   "source": [
    "import gensim "
   ]
  },
  {
   "cell_type": "code",
   "execution_count": 197,
   "metadata": {
    "scrolled": false
   },
   "outputs": [],
   "source": [
    "el = [\"i'm\",\"get\",\"got\",\"i've\",\"-\",\"a\",\"i\"]\n",
    "stop = set(stopwords.words('english'))\n",
    "for i in range(0,len(word)):\n",
    "        word[i] = [word.lower() for word in word[i]]\n",
    "        words[i] = [z for z in word[i] if z not in stop]\n",
    "        words[i] = [z for z in words[i] if z not in el]"
   ]
  },
  {
   "cell_type": "markdown",
   "metadata": {},
   "source": [
    "### 70 songs are analysed"
   ]
  },
  {
   "cell_type": "code",
   "execution_count": 199,
   "metadata": {},
   "outputs": [
    {
     "data": {
      "text/plain": [
       "70"
      ]
     },
     "execution_count": 199,
     "metadata": {},
     "output_type": "execute_result"
    }
   ],
   "source": [
    "len(word)"
   ]
  },
  {
   "cell_type": "code",
   "execution_count": 200,
   "metadata": {},
   "outputs": [
    {
     "data": {
      "text/plain": [
       "(229316, 362160)"
      ]
     },
     "execution_count": 200,
     "metadata": {},
     "output_type": "execute_result"
    }
   ],
   "source": [
    "model = gensim.models.Word2Vec(\n",
    "        word,\n",
    "        size=150,\n",
    "        window=10,\n",
    "        min_count=2,\n",
    "        workers=10)\n",
    "model.train(word, total_examples=len(word), epochs=10)\n"
   ]
  },
  {
   "cell_type": "code",
   "execution_count": 201,
   "metadata": {},
   "outputs": [
    {
     "name": "stdout",
     "output_type": "stream",
     "text": [
      "0.999327875558\n"
     ]
    },
    {
     "name": "stderr",
     "output_type": "stream",
     "text": [
      "C:\\Users\\Sangarshanan Veera\\Anaconda3\\lib\\site-packages\\ipykernel_launcher.py:1: DeprecationWarning: Call to deprecated `similarity` (Method will be removed in 4.0.0, use self.wv.similarity() instead).\n",
      "  \"\"\"Entry point for launching an IPython kernel.\n"
     ]
    }
   ],
   "source": [
    "print(model.similarity('eminem', 'rap'))"
   ]
  },
  {
   "cell_type": "code",
   "execution_count": 202,
   "metadata": {},
   "outputs": [
    {
     "name": "stdout",
     "output_type": "stream",
     "text": [
      "0.998361296544\n"
     ]
    },
    {
     "name": "stderr",
     "output_type": "stream",
     "text": [
      "C:\\Users\\Sangarshanan Veera\\Anaconda3\\lib\\site-packages\\ipykernel_launcher.py:1: DeprecationWarning: Call to deprecated `similarity` (Method will be removed in 4.0.0, use self.wv.similarity() instead).\n",
      "  \"\"\"Entry point for launching an IPython kernel.\n"
     ]
    }
   ],
   "source": [
    "print(model.similarity('eminem', 'marshall'))"
   ]
  },
  {
   "cell_type": "markdown",
   "metadata": {},
   "source": [
    "### Sounds About Right"
   ]
  },
  {
   "cell_type": "code",
   "execution_count": 203,
   "metadata": {},
   "outputs": [
    {
     "name": "stderr",
     "output_type": "stream",
     "text": [
      "C:\\Users\\Sangarshanan Veera\\Anaconda3\\lib\\site-packages\\ipykernel_launcher.py:1: DeprecationWarning: Call to deprecated `most_similar` (Method will be removed in 4.0.0, use self.wv.most_similar() instead).\n",
      "  \"\"\"Entry point for launching an IPython kernel.\n"
     ]
    },
    {
     "data": {
      "text/plain": [
       "[('old', 0.9998369216918945),\n",
       " ('dead', 0.9998131394386292),\n",
       " ('obie', 0.9997954964637756),\n",
       " ('outta', 0.9997906684875488),\n",
       " ('slim', 0.9997847080230713),\n",
       " (\"'bout\", 0.9997763633728027),\n",
       " ('mother', 0.9997687339782715),\n",
       " ('until', 0.9997647404670715),\n",
       " ('high', 0.9997644424438477),\n",
       " ('by', 0.9997599124908447)]"
      ]
     },
     "execution_count": 203,
     "metadata": {},
     "output_type": "execute_result"
    }
   ],
   "source": [
    "model.most_similar('eminem')"
   ]
  }
 ],
 "metadata": {
  "kernelspec": {
   "display_name": "Python 3",
   "language": "python",
   "name": "python3"
  },
  "language_info": {
   "codemirror_mode": {
    "name": "ipython",
    "version": 3
   },
   "file_extension": ".py",
   "mimetype": "text/x-python",
   "name": "python",
   "nbconvert_exporter": "python",
   "pygments_lexer": "ipython3",
   "version": "3.7.6"
  }
 },
 "nbformat": 4,
 "nbformat_minor": 2
}
